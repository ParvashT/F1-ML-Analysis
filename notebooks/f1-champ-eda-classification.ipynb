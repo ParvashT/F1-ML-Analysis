{
 "cells": [
  {
   "cell_type": "markdown",
   "id": "415e2c63",
   "metadata": {
    "id": "415e2c63",
    "papermill": {
     "duration": 0.113754,
     "end_time": "2023-08-04T07:26:24.617800",
     "exception": false,
     "start_time": "2023-08-04T07:26:24.504046",
     "status": "completed"
    },
    "tags": []
   },
   "source": [
    " <h1 style=\"background-color:#D7BDE2;font-family:newtimeroman;font-size:225%;text-align:center;border-radius: 15px 50px;\"> 🏎️ F1 Drivers & Teams Achievments with Visualization by Parvash 🏎️</h1><a id=0></a>\n",
    "\n",
    "# Forumla 1\n",
    "\n",
    "Formula One (also known as Formula 1 or F1) is the highest class of international racing for open-wheel single-seater formula racing cars sanctioned by the Fédération Internationale de l'Automobile (FIA). The World Drivers' Championship, which became the FIA Formula One World Championship in 1981, has been one of the premier forms of racing around the world since its inaugural season in 1950. The word formula in the name refers to the set of rules to which all participants' cars must conform. A Formula One season consists of a series of races, known as Grands Prix, which take place worldwide on both purpose-built circuits and closed public roads.\n",
    "\n",
    "![forumla](https://wallpapercave.com/download/formula-1-logo-wallpapers-wp7514293)"
   ]
  },
  {
   "cell_type": "markdown",
   "id": "72f795a6",
   "metadata": {
    "id": "72f795a6",
    "papermill": {
     "duration": 0.11457,
     "end_time": "2023-08-04T07:26:24.846719",
     "exception": false,
     "start_time": "2023-08-04T07:26:24.732149",
     "status": "completed"
    },
    "tags": []
   },
   "source": [
    "Step 1: importing required libraries"
   ]
  },
  {
   "cell_type": "code",
   "execution_count": null,
   "id": "65e793e1",
   "metadata": {
    "executionInfo": {
     "elapsed": 176,
     "status": "ok",
     "timestamp": 1713839399043,
     "user": {
      "displayName": "Harshadeep Nallamothu",
      "userId": "10115021912795450642"
     },
     "user_tz": 240
    },
    "id": "65e793e1",
    "papermill": {
     "duration": 0.112924,
     "end_time": "2023-08-04T07:26:25.072927",
     "exception": false,
     "start_time": "2023-08-04T07:26:24.960003",
     "status": "completed"
    },
    "tags": []
   },
   "outputs": [],
   "source": []
  },
  {
   "cell_type": "code",
   "execution_count": 1,
   "id": "f6085ac4",
   "metadata": {
    "executionInfo": {
     "elapsed": 226,
     "status": "ok",
     "timestamp": 1713839399640,
     "user": {
      "displayName": "Harshadeep Nallamothu",
      "userId": "10115021912795450642"
     },
     "user_tz": 240
    },
    "id": "f6085ac4",
    "papermill": {
     "duration": 1.203817,
     "end_time": "2023-08-04T07:26:26.390163",
     "exception": false,
     "start_time": "2023-08-04T07:26:25.186346",
     "status": "completed"
    },
    "tags": []
   },
   "outputs": [],
   "source": [
    "# importing required libraries\n",
    "\n",
    "import pandas as pd\n",
    "import seaborn as sns\n",
    "import matplotlib.pyplot as plt\n",
    "import numpy as np\n",
    "from sklearn.model_selection import train_test_split\n",
    "import warnings\n",
    "import os\n",
    "warnings.simplefilter(\"ignore\")\n",
    "pd.set_option('display.max_columns', None)"
   ]
  },
  {
   "cell_type": "code",
   "execution_count": 2,
   "id": "4ce37f0f",
   "metadata": {},
   "outputs": [],
   "source": [
    "# Install missing dependencies (Only for Colab)\n",
    "try:\n",
    "    import google.colab\n",
    "    !pip install pandas numpy matplotlib seaborn sklearn folium joblib\n",
    "except:\n",
    "    pass"
   ]
  },
  {
   "cell_type": "markdown",
   "id": "e23e5c08",
   "metadata": {
    "id": "e23e5c08",
    "papermill": {
     "duration": 0.114243,
     "end_time": "2023-08-04T07:26:26.619130",
     "exception": false,
     "start_time": "2023-08-04T07:26:26.504887",
     "status": "completed"
    },
    "tags": []
   },
   "source": [
    "# Importing the Data"
   ]
  },
  {
   "cell_type": "code",
   "execution_count": 3,
   "id": "f7524efb",
   "metadata": {
    "executionInfo": {
     "elapsed": 4,
     "status": "ok",
     "timestamp": 1713839399640,
     "user": {
      "displayName": "Harshadeep Nallamothu",
      "userId": "10115021912795450642"
     },
     "user_tz": 240
    },
    "id": "f7524efb",
    "papermill": {
     "duration": 0.355586,
     "end_time": "2023-08-04T07:26:27.087736",
     "exception": false,
     "start_time": "2023-08-04T07:26:26.732150",
     "status": "completed"
    },
    "tags": []
   },
   "outputs": [
    {
     "ename": "FileNotFoundError",
     "evalue": "[Errno 2] No such file or directory: 'data/results.csv'",
     "output_type": "error",
     "traceback": [
      "\u001b[1;31m---------------------------------------------------------------------------\u001b[0m",
      "\u001b[1;31mFileNotFoundError\u001b[0m                         Traceback (most recent call last)",
      "Cell \u001b[1;32mIn[3], line 2\u001b[0m\n\u001b[0;32m      1\u001b[0m data_path \u001b[38;5;241m=\u001b[39m \u001b[38;5;124m\"\u001b[39m\u001b[38;5;124mdata/\u001b[39m\u001b[38;5;124m\"\u001b[39m  \u001b[38;5;66;03m# Ensure datasets are inside 'data' folder\u001b[39;00m\n\u001b[1;32m----> 2\u001b[0m result_df \u001b[38;5;241m=\u001b[39m pd\u001b[38;5;241m.\u001b[39mread_csv(os\u001b[38;5;241m.\u001b[39mpath\u001b[38;5;241m.\u001b[39mjoin(data_path, \u001b[38;5;124m\"\u001b[39m\u001b[38;5;124mresults.csv\u001b[39m\u001b[38;5;124m\"\u001b[39m))\n\u001b[0;32m      3\u001b[0m status_df \u001b[38;5;241m=\u001b[39m pd\u001b[38;5;241m.\u001b[39mread_csv(os\u001b[38;5;241m.\u001b[39mpath\u001b[38;5;241m.\u001b[39mjoin(data_path, \u001b[38;5;124m\"\u001b[39m\u001b[38;5;124mstatus.csv\u001b[39m\u001b[38;5;124m\"\u001b[39m))\n\u001b[0;32m      4\u001b[0m drivers_df \u001b[38;5;241m=\u001b[39m pd\u001b[38;5;241m.\u001b[39mread_csv(os\u001b[38;5;241m.\u001b[39mpath\u001b[38;5;241m.\u001b[39mjoin(data_path, \u001b[38;5;124m\"\u001b[39m\u001b[38;5;124mdrivers.csv\u001b[39m\u001b[38;5;124m\"\u001b[39m))\n",
      "File \u001b[1;32mC:\\ProgramData\\anaconda3\\Lib\\site-packages\\pandas\\io\\parsers\\readers.py:912\u001b[0m, in \u001b[0;36mread_csv\u001b[1;34m(filepath_or_buffer, sep, delimiter, header, names, index_col, usecols, dtype, engine, converters, true_values, false_values, skipinitialspace, skiprows, skipfooter, nrows, na_values, keep_default_na, na_filter, verbose, skip_blank_lines, parse_dates, infer_datetime_format, keep_date_col, date_parser, date_format, dayfirst, cache_dates, iterator, chunksize, compression, thousands, decimal, lineterminator, quotechar, quoting, doublequote, escapechar, comment, encoding, encoding_errors, dialect, on_bad_lines, delim_whitespace, low_memory, memory_map, float_precision, storage_options, dtype_backend)\u001b[0m\n\u001b[0;32m    899\u001b[0m kwds_defaults \u001b[38;5;241m=\u001b[39m _refine_defaults_read(\n\u001b[0;32m    900\u001b[0m     dialect,\n\u001b[0;32m    901\u001b[0m     delimiter,\n\u001b[1;32m   (...)\u001b[0m\n\u001b[0;32m    908\u001b[0m     dtype_backend\u001b[38;5;241m=\u001b[39mdtype_backend,\n\u001b[0;32m    909\u001b[0m )\n\u001b[0;32m    910\u001b[0m kwds\u001b[38;5;241m.\u001b[39mupdate(kwds_defaults)\n\u001b[1;32m--> 912\u001b[0m \u001b[38;5;28;01mreturn\u001b[39;00m _read(filepath_or_buffer, kwds)\n",
      "File \u001b[1;32mC:\\ProgramData\\anaconda3\\Lib\\site-packages\\pandas\\io\\parsers\\readers.py:577\u001b[0m, in \u001b[0;36m_read\u001b[1;34m(filepath_or_buffer, kwds)\u001b[0m\n\u001b[0;32m    574\u001b[0m _validate_names(kwds\u001b[38;5;241m.\u001b[39mget(\u001b[38;5;124m\"\u001b[39m\u001b[38;5;124mnames\u001b[39m\u001b[38;5;124m\"\u001b[39m, \u001b[38;5;28;01mNone\u001b[39;00m))\n\u001b[0;32m    576\u001b[0m \u001b[38;5;66;03m# Create the parser.\u001b[39;00m\n\u001b[1;32m--> 577\u001b[0m parser \u001b[38;5;241m=\u001b[39m TextFileReader(filepath_or_buffer, \u001b[38;5;241m*\u001b[39m\u001b[38;5;241m*\u001b[39mkwds)\n\u001b[0;32m    579\u001b[0m \u001b[38;5;28;01mif\u001b[39;00m chunksize \u001b[38;5;129;01mor\u001b[39;00m iterator:\n\u001b[0;32m    580\u001b[0m     \u001b[38;5;28;01mreturn\u001b[39;00m parser\n",
      "File \u001b[1;32mC:\\ProgramData\\anaconda3\\Lib\\site-packages\\pandas\\io\\parsers\\readers.py:1407\u001b[0m, in \u001b[0;36mTextFileReader.__init__\u001b[1;34m(self, f, engine, **kwds)\u001b[0m\n\u001b[0;32m   1404\u001b[0m     \u001b[38;5;28mself\u001b[39m\u001b[38;5;241m.\u001b[39moptions[\u001b[38;5;124m\"\u001b[39m\u001b[38;5;124mhas_index_names\u001b[39m\u001b[38;5;124m\"\u001b[39m] \u001b[38;5;241m=\u001b[39m kwds[\u001b[38;5;124m\"\u001b[39m\u001b[38;5;124mhas_index_names\u001b[39m\u001b[38;5;124m\"\u001b[39m]\n\u001b[0;32m   1406\u001b[0m \u001b[38;5;28mself\u001b[39m\u001b[38;5;241m.\u001b[39mhandles: IOHandles \u001b[38;5;241m|\u001b[39m \u001b[38;5;28;01mNone\u001b[39;00m \u001b[38;5;241m=\u001b[39m \u001b[38;5;28;01mNone\u001b[39;00m\n\u001b[1;32m-> 1407\u001b[0m \u001b[38;5;28mself\u001b[39m\u001b[38;5;241m.\u001b[39m_engine \u001b[38;5;241m=\u001b[39m \u001b[38;5;28mself\u001b[39m\u001b[38;5;241m.\u001b[39m_make_engine(f, \u001b[38;5;28mself\u001b[39m\u001b[38;5;241m.\u001b[39mengine)\n",
      "File \u001b[1;32mC:\\ProgramData\\anaconda3\\Lib\\site-packages\\pandas\\io\\parsers\\readers.py:1661\u001b[0m, in \u001b[0;36mTextFileReader._make_engine\u001b[1;34m(self, f, engine)\u001b[0m\n\u001b[0;32m   1659\u001b[0m     \u001b[38;5;28;01mif\u001b[39;00m \u001b[38;5;124m\"\u001b[39m\u001b[38;5;124mb\u001b[39m\u001b[38;5;124m\"\u001b[39m \u001b[38;5;129;01mnot\u001b[39;00m \u001b[38;5;129;01min\u001b[39;00m mode:\n\u001b[0;32m   1660\u001b[0m         mode \u001b[38;5;241m+\u001b[39m\u001b[38;5;241m=\u001b[39m \u001b[38;5;124m\"\u001b[39m\u001b[38;5;124mb\u001b[39m\u001b[38;5;124m\"\u001b[39m\n\u001b[1;32m-> 1661\u001b[0m \u001b[38;5;28mself\u001b[39m\u001b[38;5;241m.\u001b[39mhandles \u001b[38;5;241m=\u001b[39m get_handle(\n\u001b[0;32m   1662\u001b[0m     f,\n\u001b[0;32m   1663\u001b[0m     mode,\n\u001b[0;32m   1664\u001b[0m     encoding\u001b[38;5;241m=\u001b[39m\u001b[38;5;28mself\u001b[39m\u001b[38;5;241m.\u001b[39moptions\u001b[38;5;241m.\u001b[39mget(\u001b[38;5;124m\"\u001b[39m\u001b[38;5;124mencoding\u001b[39m\u001b[38;5;124m\"\u001b[39m, \u001b[38;5;28;01mNone\u001b[39;00m),\n\u001b[0;32m   1665\u001b[0m     compression\u001b[38;5;241m=\u001b[39m\u001b[38;5;28mself\u001b[39m\u001b[38;5;241m.\u001b[39moptions\u001b[38;5;241m.\u001b[39mget(\u001b[38;5;124m\"\u001b[39m\u001b[38;5;124mcompression\u001b[39m\u001b[38;5;124m\"\u001b[39m, \u001b[38;5;28;01mNone\u001b[39;00m),\n\u001b[0;32m   1666\u001b[0m     memory_map\u001b[38;5;241m=\u001b[39m\u001b[38;5;28mself\u001b[39m\u001b[38;5;241m.\u001b[39moptions\u001b[38;5;241m.\u001b[39mget(\u001b[38;5;124m\"\u001b[39m\u001b[38;5;124mmemory_map\u001b[39m\u001b[38;5;124m\"\u001b[39m, \u001b[38;5;28;01mFalse\u001b[39;00m),\n\u001b[0;32m   1667\u001b[0m     is_text\u001b[38;5;241m=\u001b[39mis_text,\n\u001b[0;32m   1668\u001b[0m     errors\u001b[38;5;241m=\u001b[39m\u001b[38;5;28mself\u001b[39m\u001b[38;5;241m.\u001b[39moptions\u001b[38;5;241m.\u001b[39mget(\u001b[38;5;124m\"\u001b[39m\u001b[38;5;124mencoding_errors\u001b[39m\u001b[38;5;124m\"\u001b[39m, \u001b[38;5;124m\"\u001b[39m\u001b[38;5;124mstrict\u001b[39m\u001b[38;5;124m\"\u001b[39m),\n\u001b[0;32m   1669\u001b[0m     storage_options\u001b[38;5;241m=\u001b[39m\u001b[38;5;28mself\u001b[39m\u001b[38;5;241m.\u001b[39moptions\u001b[38;5;241m.\u001b[39mget(\u001b[38;5;124m\"\u001b[39m\u001b[38;5;124mstorage_options\u001b[39m\u001b[38;5;124m\"\u001b[39m, \u001b[38;5;28;01mNone\u001b[39;00m),\n\u001b[0;32m   1670\u001b[0m )\n\u001b[0;32m   1671\u001b[0m \u001b[38;5;28;01massert\u001b[39;00m \u001b[38;5;28mself\u001b[39m\u001b[38;5;241m.\u001b[39mhandles \u001b[38;5;129;01mis\u001b[39;00m \u001b[38;5;129;01mnot\u001b[39;00m \u001b[38;5;28;01mNone\u001b[39;00m\n\u001b[0;32m   1672\u001b[0m f \u001b[38;5;241m=\u001b[39m \u001b[38;5;28mself\u001b[39m\u001b[38;5;241m.\u001b[39mhandles\u001b[38;5;241m.\u001b[39mhandle\n",
      "File \u001b[1;32mC:\\ProgramData\\anaconda3\\Lib\\site-packages\\pandas\\io\\common.py:859\u001b[0m, in \u001b[0;36mget_handle\u001b[1;34m(path_or_buf, mode, encoding, compression, memory_map, is_text, errors, storage_options)\u001b[0m\n\u001b[0;32m    854\u001b[0m \u001b[38;5;28;01melif\u001b[39;00m \u001b[38;5;28misinstance\u001b[39m(handle, \u001b[38;5;28mstr\u001b[39m):\n\u001b[0;32m    855\u001b[0m     \u001b[38;5;66;03m# Check whether the filename is to be opened in binary mode.\u001b[39;00m\n\u001b[0;32m    856\u001b[0m     \u001b[38;5;66;03m# Binary mode does not support 'encoding' and 'newline'.\u001b[39;00m\n\u001b[0;32m    857\u001b[0m     \u001b[38;5;28;01mif\u001b[39;00m ioargs\u001b[38;5;241m.\u001b[39mencoding \u001b[38;5;129;01mand\u001b[39;00m \u001b[38;5;124m\"\u001b[39m\u001b[38;5;124mb\u001b[39m\u001b[38;5;124m\"\u001b[39m \u001b[38;5;129;01mnot\u001b[39;00m \u001b[38;5;129;01min\u001b[39;00m ioargs\u001b[38;5;241m.\u001b[39mmode:\n\u001b[0;32m    858\u001b[0m         \u001b[38;5;66;03m# Encoding\u001b[39;00m\n\u001b[1;32m--> 859\u001b[0m         handle \u001b[38;5;241m=\u001b[39m \u001b[38;5;28mopen\u001b[39m(\n\u001b[0;32m    860\u001b[0m             handle,\n\u001b[0;32m    861\u001b[0m             ioargs\u001b[38;5;241m.\u001b[39mmode,\n\u001b[0;32m    862\u001b[0m             encoding\u001b[38;5;241m=\u001b[39mioargs\u001b[38;5;241m.\u001b[39mencoding,\n\u001b[0;32m    863\u001b[0m             errors\u001b[38;5;241m=\u001b[39merrors,\n\u001b[0;32m    864\u001b[0m             newline\u001b[38;5;241m=\u001b[39m\u001b[38;5;124m\"\u001b[39m\u001b[38;5;124m\"\u001b[39m,\n\u001b[0;32m    865\u001b[0m         )\n\u001b[0;32m    866\u001b[0m     \u001b[38;5;28;01melse\u001b[39;00m:\n\u001b[0;32m    867\u001b[0m         \u001b[38;5;66;03m# Binary mode\u001b[39;00m\n\u001b[0;32m    868\u001b[0m         handle \u001b[38;5;241m=\u001b[39m \u001b[38;5;28mopen\u001b[39m(handle, ioargs\u001b[38;5;241m.\u001b[39mmode)\n",
      "\u001b[1;31mFileNotFoundError\u001b[0m: [Errno 2] No such file or directory: 'data/results.csv'"
     ]
    }
   ],
   "source": [
    "data_path = \"data/\"  # Ensure datasets are inside 'data' folder\n",
    "result_df = pd.read_csv(os.path.join(data_path, \"results.csv\"))\n",
    "status_df = pd.read_csv(os.path.join(data_path, \"status.csv\"))\n",
    "drivers_df = pd.read_csv(os.path.join(data_path, \"drivers.csv\"))\n",
    "races_df = pd.read_csv(os.path.join(data_path, \"races.csv\"))\n",
    "constructors_df = pd.read_csv(os.path.join(data_path, \"constructors.csv\"))\n",
    "driver_standings_df = pd.read_csv(os.path.join(data_path, \"driver_standings.csv\"))\n",
    "print(result_df.head().to_string())\n",
    "\n"
   ]
  },
  {
   "cell_type": "code",
   "execution_count": null,
   "id": "71301108",
   "metadata": {
    "colab": {
     "base_uri": "https://localhost:8080/",
     "height": 206
    },
    "executionInfo": {
     "elapsed": 285,
     "status": "ok",
     "timestamp": 1713839401033,
     "user": {
      "displayName": "Harshadeep Nallamothu",
      "userId": "10115021912795450642"
     },
     "user_tz": 240
    },
    "id": "71301108",
    "outputId": "d9b59c69-3f8d-43ab-9b5f-c8de1a93e1e1",
    "papermill": {
     "duration": 0.143317,
     "end_time": "2023-08-04T07:26:27.344500",
     "exception": false,
     "start_time": "2023-08-04T07:26:27.201183",
     "status": "completed"
    },
    "tags": []
   },
   "outputs": [],
   "source": [
    "result_df.head()"
   ]
  },
  {
   "cell_type": "code",
   "execution_count": null,
   "id": "c437f1ee",
   "metadata": {
    "colab": {
     "base_uri": "https://localhost:8080/",
     "height": 206
    },
    "executionInfo": {
     "elapsed": 211,
     "status": "ok",
     "timestamp": 1713839401241,
     "user": {
      "displayName": "Harshadeep Nallamothu",
      "userId": "10115021912795450642"
     },
     "user_tz": 240
    },
    "id": "c437f1ee",
    "outputId": "77fffa40-af61-4f75-ab56-20383e8a97e1",
    "papermill": {
     "duration": 0.136894,
     "end_time": "2023-08-04T07:26:27.597425",
     "exception": false,
     "start_time": "2023-08-04T07:26:27.460531",
     "status": "completed"
    },
    "tags": []
   },
   "outputs": [],
   "source": [
    "result_df.tail()"
   ]
  },
  {
   "cell_type": "code",
   "execution_count": null,
   "id": "80b8d7fd",
   "metadata": {
    "colab": {
     "base_uri": "https://localhost:8080/",
     "height": 206
    },
    "executionInfo": {
     "elapsed": 14,
     "status": "ok",
     "timestamp": 1713839401241,
     "user": {
      "displayName": "Harshadeep Nallamothu",
      "userId": "10115021912795450642"
     },
     "user_tz": 240
    },
    "id": "80b8d7fd",
    "outputId": "eda839fc-23c2-40ae-b980-1903ea750168",
    "papermill": {
     "duration": 0.146532,
     "end_time": "2023-08-04T07:26:27.868096",
     "exception": false,
     "start_time": "2023-08-04T07:26:27.721564",
     "status": "completed"
    },
    "tags": []
   },
   "outputs": [],
   "source": [
    "stats_df.head()"
   ]
  },
  {
   "cell_type": "code",
   "execution_count": null,
   "id": "7c8e0ad7",
   "metadata": {
    "colab": {
     "base_uri": "https://localhost:8080/",
     "height": 206
    },
    "executionInfo": {
     "elapsed": 13,
     "status": "ok",
     "timestamp": 1713839401241,
     "user": {
      "displayName": "Harshadeep Nallamothu",
      "userId": "10115021912795450642"
     },
     "user_tz": 240
    },
    "id": "7c8e0ad7",
    "outputId": "809b81c7-ad5d-40ba-9c14-860d588c66ab",
    "papermill": {
     "duration": 0.129829,
     "end_time": "2023-08-04T07:26:28.117585",
     "exception": false,
     "start_time": "2023-08-04T07:26:27.987756",
     "status": "completed"
    },
    "tags": []
   },
   "outputs": [],
   "source": [
    "stats_df.tail()"
   ]
  },
  {
   "cell_type": "code",
   "execution_count": null,
   "id": "92d73774",
   "metadata": {
    "colab": {
     "base_uri": "https://localhost:8080/",
     "height": 206
    },
    "executionInfo": {
     "elapsed": 12,
     "status": "ok",
     "timestamp": 1713839401241,
     "user": {
      "displayName": "Harshadeep Nallamothu",
      "userId": "10115021912795450642"
     },
     "user_tz": 240
    },
    "id": "92d73774",
    "outputId": "1105ed07-a80f-4c9b-f644-a83980845bb7",
    "papermill": {
     "duration": 0.134705,
     "end_time": "2023-08-04T07:26:28.372008",
     "exception": false,
     "start_time": "2023-08-04T07:26:28.237303",
     "status": "completed"
    },
    "tags": []
   },
   "outputs": [],
   "source": [
    "drivers_df.head()"
   ]
  },
  {
   "cell_type": "code",
   "execution_count": null,
   "id": "a9f16568",
   "metadata": {
    "colab": {
     "base_uri": "https://localhost:8080/",
     "height": 206
    },
    "executionInfo": {
     "elapsed": 12,
     "status": "ok",
     "timestamp": 1713839401241,
     "user": {
      "displayName": "Harshadeep Nallamothu",
      "userId": "10115021912795450642"
     },
     "user_tz": 240
    },
    "id": "a9f16568",
    "outputId": "d956015b-0d0f-410c-f6c1-9023e49230da",
    "papermill": {
     "duration": 0.131902,
     "end_time": "2023-08-04T07:26:28.622431",
     "exception": false,
     "start_time": "2023-08-04T07:26:28.490529",
     "status": "completed"
    },
    "tags": []
   },
   "outputs": [],
   "source": [
    "drivers_df.tail()"
   ]
  },
  {
   "cell_type": "code",
   "execution_count": null,
   "id": "5ea004b7",
   "metadata": {
    "colab": {
     "base_uri": "https://localhost:8080/",
     "height": 206
    },
    "executionInfo": {
     "elapsed": 685,
     "status": "ok",
     "timestamp": 1713839401915,
     "user": {
      "displayName": "Harshadeep Nallamothu",
      "userId": "10115021912795450642"
     },
     "user_tz": 240
    },
    "id": "5ea004b7",
    "outputId": "6d17141c-dda0-499e-a259-24068d73a809",
    "papermill": {
     "duration": 0.140888,
     "end_time": "2023-08-04T07:26:28.883360",
     "exception": false,
     "start_time": "2023-08-04T07:26:28.742472",
     "status": "completed"
    },
    "tags": []
   },
   "outputs": [],
   "source": [
    "races_df.head()"
   ]
  },
  {
   "cell_type": "code",
   "execution_count": null,
   "id": "660f4929",
   "metadata": {
    "colab": {
     "base_uri": "https://localhost:8080/",
     "height": 293
    },
    "executionInfo": {
     "elapsed": 9,
     "status": "ok",
     "timestamp": 1713839401915,
     "user": {
      "displayName": "Harshadeep Nallamothu",
      "userId": "10115021912795450642"
     },
     "user_tz": 240
    },
    "id": "660f4929",
    "outputId": "c7d8758e-9914-4a1c-fe0f-2157ad947c9f",
    "papermill": {
     "duration": 0.143784,
     "end_time": "2023-08-04T07:26:29.146663",
     "exception": false,
     "start_time": "2023-08-04T07:26:29.002879",
     "status": "completed"
    },
    "tags": []
   },
   "outputs": [],
   "source": [
    "races_df.tail()"
   ]
  },
  {
   "cell_type": "code",
   "execution_count": null,
   "id": "bf398415",
   "metadata": {
    "colab": {
     "base_uri": "https://localhost:8080/",
     "height": 206
    },
    "executionInfo": {
     "elapsed": 572,
     "status": "ok",
     "timestamp": 1713839402479,
     "user": {
      "displayName": "Harshadeep Nallamothu",
      "userId": "10115021912795450642"
     },
     "user_tz": 240
    },
    "id": "bf398415",
    "outputId": "e6bab645-2f36-40d5-b986-4a6cee76a325",
    "papermill": {
     "duration": 0.136366,
     "end_time": "2023-08-04T07:26:29.405982",
     "exception": false,
     "start_time": "2023-08-04T07:26:29.269616",
     "status": "completed"
    },
    "tags": []
   },
   "outputs": [],
   "source": [
    "constructor_df.head()"
   ]
  },
  {
   "cell_type": "code",
   "execution_count": null,
   "id": "e7f1450f",
   "metadata": {
    "colab": {
     "base_uri": "https://localhost:8080/",
     "height": 206
    },
    "executionInfo": {
     "elapsed": 22,
     "status": "ok",
     "timestamp": 1713839402479,
     "user": {
      "displayName": "Harshadeep Nallamothu",
      "userId": "10115021912795450642"
     },
     "user_tz": 240
    },
    "id": "e7f1450f",
    "outputId": "5d9e41a6-72b5-4c04-879d-b83389e2d6c9",
    "papermill": {
     "duration": 0.138525,
     "end_time": "2023-08-04T07:26:29.667078",
     "exception": false,
     "start_time": "2023-08-04T07:26:29.528553",
     "status": "completed"
    },
    "tags": []
   },
   "outputs": [],
   "source": [
    "constructor_df.tail()"
   ]
  },
  {
   "cell_type": "code",
   "execution_count": null,
   "id": "992db92e",
   "metadata": {
    "colab": {
     "base_uri": "https://localhost:8080/",
     "height": 206
    },
    "executionInfo": {
     "elapsed": 21,
     "status": "ok",
     "timestamp": 1713839402479,
     "user": {
      "displayName": "Harshadeep Nallamothu",
      "userId": "10115021912795450642"
     },
     "user_tz": 240
    },
    "id": "992db92e",
    "outputId": "3aa9fa78-0eff-4544-b732-807051dfeba8",
    "papermill": {
     "duration": 0.138855,
     "end_time": "2023-08-04T07:26:29.932641",
     "exception": false,
     "start_time": "2023-08-04T07:26:29.793786",
     "status": "completed"
    },
    "tags": []
   },
   "outputs": [],
   "source": [
    "driver_standings_df.head()"
   ]
  },
  {
   "cell_type": "code",
   "execution_count": null,
   "id": "44eddbd5",
   "metadata": {
    "colab": {
     "base_uri": "https://localhost:8080/",
     "height": 206
    },
    "executionInfo": {
     "elapsed": 20,
     "status": "ok",
     "timestamp": 1713839402479,
     "user": {
      "displayName": "Harshadeep Nallamothu",
      "userId": "10115021912795450642"
     },
     "user_tz": 240
    },
    "id": "44eddbd5",
    "outputId": "31ba23fb-aa45-4234-ca41-78402e8ac4cf",
    "papermill": {
     "duration": 0.138496,
     "end_time": "2023-08-04T07:26:30.193678",
     "exception": false,
     "start_time": "2023-08-04T07:26:30.055182",
     "status": "completed"
    },
    "tags": []
   },
   "outputs": [],
   "source": [
    "driver_standings_df.tail()"
   ]
  },
  {
   "cell_type": "code",
   "execution_count": null,
   "id": "d7a12660",
   "metadata": {
    "executionInfo": {
     "elapsed": 20,
     "status": "ok",
     "timestamp": 1713839402480,
     "user": {
      "displayName": "Harshadeep Nallamothu",
      "userId": "10115021912795450642"
     },
     "user_tz": 240
    },
    "id": "d7a12660",
    "papermill": {
     "duration": 0.122296,
     "end_time": "2023-08-04T07:26:30.442678",
     "exception": false,
     "start_time": "2023-08-04T07:26:30.320382",
     "status": "completed"
    },
    "tags": []
   },
   "outputs": [],
   "source": []
  },
  {
   "cell_type": "markdown",
   "id": "2ffd847b",
   "metadata": {
    "id": "2ffd847b",
    "papermill": {
     "duration": 0.124392,
     "end_time": "2023-08-04T07:26:30.686158",
     "exception": false,
     "start_time": "2023-08-04T07:26:30.561766",
     "status": "completed"
    },
    "tags": []
   },
   "source": [
    "# Feature Engineering"
   ]
  },
  {
   "cell_type": "code",
   "execution_count": null,
   "id": "95681de4",
   "metadata": {
    "colab": {
     "base_uri": "https://localhost:8080/"
    },
    "executionInfo": {
     "elapsed": 19,
     "status": "ok",
     "timestamp": 1713839402480,
     "user": {
      "displayName": "Harshadeep Nallamothu",
      "userId": "10115021912795450642"
     },
     "user_tz": 240
    },
    "id": "95681de4",
    "outputId": "f9456c64-13f9-4888-b4f0-35fcb3787d11",
    "papermill": {
     "duration": 0.140745,
     "end_time": "2023-08-04T07:26:30.952167",
     "exception": false,
     "start_time": "2023-08-04T07:26:30.811422",
     "status": "completed"
    },
    "tags": []
   },
   "outputs": [],
   "source": [
    "races_df['raceId']"
   ]
  },
  {
   "cell_type": "code",
   "execution_count": null,
   "id": "747fa3be",
   "metadata": {
    "colab": {
     "base_uri": "https://localhost:8080/"
    },
    "executionInfo": {
     "elapsed": 16,
     "status": "ok",
     "timestamp": 1713839402480,
     "user": {
      "displayName": "Harshadeep Nallamothu",
      "userId": "10115021912795450642"
     },
     "user_tz": 240
    },
    "id": "747fa3be",
    "outputId": "1cc2b7c8-c705-494d-8a92-fd70d927d0aa",
    "papermill": {
     "duration": 0.150764,
     "end_time": "2023-08-04T07:26:31.235090",
     "exception": false,
     "start_time": "2023-08-04T07:26:31.084326",
     "status": "completed"
    },
    "tags": []
   },
   "outputs": [],
   "source": [
    "races_df.info()"
   ]
  },
  {
   "cell_type": "code",
   "execution_count": null,
   "id": "56e6cfb3",
   "metadata": {
    "colab": {
     "base_uri": "https://localhost:8080/",
     "height": 300
    },
    "executionInfo": {
     "elapsed": 13,
     "status": "ok",
     "timestamp": 1713839402480,
     "user": {
      "displayName": "Harshadeep Nallamothu",
      "userId": "10115021912795450642"
     },
     "user_tz": 240
    },
    "id": "56e6cfb3",
    "outputId": "c0e1c1f1-0389-4d6d-a7c4-42233e54cb30",
    "papermill": {
     "duration": 0.150797,
     "end_time": "2023-08-04T07:26:31.512207",
     "exception": false,
     "start_time": "2023-08-04T07:26:31.361410",
     "status": "completed"
    },
    "tags": []
   },
   "outputs": [],
   "source": [
    "races_df.describe()"
   ]
  },
  {
   "cell_type": "code",
   "execution_count": null,
   "id": "40d7f010",
   "metadata": {
    "executionInfo": {
     "elapsed": 12,
     "status": "ok",
     "timestamp": 1713839402480,
     "user": {
      "displayName": "Harshadeep Nallamothu",
      "userId": "10115021912795450642"
     },
     "user_tz": 240
    },
    "id": "40d7f010",
    "papermill": {
     "duration": 0.15204,
     "end_time": "2023-08-04T07:26:31.789675",
     "exception": false,
     "start_time": "2023-08-04T07:26:31.637635",
     "status": "completed"
    },
    "tags": []
   },
   "outputs": [],
   "source": [
    "races_df = races_df.raceId.astype(int)"
   ]
  },
  {
   "cell_type": "code",
   "execution_count": null,
   "id": "54f25472",
   "metadata": {
    "colab": {
     "base_uri": "https://localhost:8080/"
    },
    "executionInfo": {
     "elapsed": 12,
     "status": "ok",
     "timestamp": 1713839402480,
     "user": {
      "displayName": "Harshadeep Nallamothu",
      "userId": "10115021912795450642"
     },
     "user_tz": 240
    },
    "id": "54f25472",
    "outputId": "a58f7902-b6b0-4567-8804-b3ce7273d79e",
    "papermill": {
     "duration": 0.150894,
     "end_time": "2023-08-04T07:26:32.085550",
     "exception": false,
     "start_time": "2023-08-04T07:26:31.934656",
     "status": "completed"
    },
    "tags": []
   },
   "outputs": [],
   "source": [
    "races_df"
   ]
  },
  {
   "cell_type": "code",
   "execution_count": null,
   "id": "c3c1fd1e",
   "metadata": {
    "colab": {
     "base_uri": "https://localhost:8080/",
     "height": 0
    },
    "executionInfo": {
     "elapsed": 10407,
     "status": "ok",
     "timestamp": 1713839412877,
     "user": {
      "displayName": "Harshadeep Nallamothu",
      "userId": "10115021912795450642"
     },
     "user_tz": 240
    },
    "id": "c3c1fd1e",
    "outputId": "007fe717-1a76-40dc-dbf4-6ff8ae76b416",
    "papermill": {
     "duration": 5.694249,
     "end_time": "2023-08-04T07:26:37.936547",
     "exception": false,
     "start_time": "2023-08-04T07:26:32.242298",
     "status": "completed"
    },
    "tags": []
   },
   "outputs": [],
   "source": [
    "# merging all seperate dataframe into single dataframe as df\n",
    "\n",
    "con1 = pd.merge(result_df, races_df, on ='raceId')\n",
    "con2 = pd.merge(con1, drivers_df, on = 'driverId')\n",
    "con3 = pd.merge(con2, driver_standings_df, on = 'driverId')\n",
    "con4 = pd.merge(con3, constructor_df, on ='constructorId')\n",
    "df = pd.merge(con4, stats_df, on ='statusId')\n",
    "pd.get_option(\"display.max_columns\",None)\n",
    "df.head()"
   ]
  },
  {
   "cell_type": "code",
   "execution_count": null,
   "id": "7628287d",
   "metadata": {
    "colab": {
     "base_uri": "https://localhost:8080/"
    },
    "executionInfo": {
     "elapsed": 10,
     "status": "ok",
     "timestamp": 1713839412878,
     "user": {
      "displayName": "Harshadeep Nallamothu",
      "userId": "10115021912795450642"
     },
     "user_tz": 240
    },
    "id": "7628287d",
    "outputId": "c369568b-a279-479f-c348-6b6ad1d7ca38",
    "papermill": {
     "duration": 0.1443,
     "end_time": "2023-08-04T07:26:38.211145",
     "exception": false,
     "start_time": "2023-08-04T07:26:38.066845",
     "status": "completed"
    },
    "tags": []
   },
   "outputs": [],
   "source": [
    "print(pd.get_option(\"display.max_columns\"))"
   ]
  },
  {
   "cell_type": "code",
   "execution_count": null,
   "id": "00920d9f",
   "metadata": {
    "colab": {
     "base_uri": "https://localhost:8080/"
    },
    "executionInfo": {
     "elapsed": 6,
     "status": "ok",
     "timestamp": 1713839412878,
     "user": {
      "displayName": "Harshadeep Nallamothu",
      "userId": "10115021912795450642"
     },
     "user_tz": 240
    },
    "id": "00920d9f",
    "outputId": "da0ccfda-52c3-4c98-eec0-8d6d0aee8648",
    "papermill": {
     "duration": 0.148805,
     "end_time": "2023-08-04T07:26:38.495030",
     "exception": false,
     "start_time": "2023-08-04T07:26:38.346225",
     "status": "completed"
    },
    "tags": []
   },
   "outputs": [],
   "source": [
    "df.info()"
   ]
  },
  {
   "cell_type": "code",
   "execution_count": null,
   "id": "1e6a03df",
   "metadata": {
    "colab": {
     "base_uri": "https://localhost:8080/",
     "height": 444
    },
    "executionInfo": {
     "elapsed": 5526,
     "status": "ok",
     "timestamp": 1713839418399,
     "user": {
      "displayName": "Harshadeep Nallamothu",
      "userId": "10115021912795450642"
     },
     "user_tz": 240
    },
    "id": "1e6a03df",
    "outputId": "d820e9e9-d17a-4588-832f-8a5ad2ea2bf4",
    "papermill": {
     "duration": 8.180595,
     "end_time": "2023-08-04T07:26:46.810609",
     "exception": false,
     "start_time": "2023-08-04T07:26:38.630014",
     "status": "completed"
    },
    "tags": []
   },
   "outputs": [],
   "source": [
    "# checking of null values\n",
    "\n",
    "df.isna()"
   ]
  },
  {
   "cell_type": "markdown",
   "id": "d9520298",
   "metadata": {
    "id": "d9520298",
    "papermill": {
     "duration": 0.133141,
     "end_time": "2023-08-04T07:26:47.076208",
     "exception": false,
     "start_time": "2023-08-04T07:26:46.943067",
     "status": "completed"
    },
    "tags": []
   },
   "source": [
    "# Note:There's no null values in the dataset"
   ]
  },
  {
   "cell_type": "code",
   "execution_count": null,
   "id": "db5de69f",
   "metadata": {
    "executionInfo": {
     "elapsed": 6,
     "status": "ok",
     "timestamp": 1713839418399,
     "user": {
      "displayName": "Harshadeep Nallamothu",
      "userId": "10115021912795450642"
     },
     "user_tz": 240
    },
    "id": "db5de69f",
    "papermill": {
     "duration": 0.139267,
     "end_time": "2023-08-04T07:26:47.353806",
     "exception": false,
     "start_time": "2023-08-04T07:26:47.214539",
     "status": "completed"
    },
    "tags": []
   },
   "outputs": [],
   "source": [
    "# There's no null values in the dataset"
   ]
  },
  {
   "cell_type": "code",
   "execution_count": null,
   "id": "d247171d",
   "metadata": {
    "colab": {
     "base_uri": "https://localhost:8080/"
    },
    "executionInfo": {
     "elapsed": 5,
     "status": "ok",
     "timestamp": 1713839418399,
     "user": {
      "displayName": "Harshadeep Nallamothu",
      "userId": "10115021912795450642"
     },
     "user_tz": 240
    },
    "id": "d247171d",
    "outputId": "6b89a788-c262-4d42-f331-e1660f8be047",
    "papermill": {
     "duration": 0.140937,
     "end_time": "2023-08-04T07:26:47.625127",
     "exception": false,
     "start_time": "2023-08-04T07:26:47.484190",
     "status": "completed"
    },
    "tags": []
   },
   "outputs": [],
   "source": [
    "df.info()"
   ]
  },
  {
   "cell_type": "markdown",
   "id": "cc14ba54",
   "metadata": {
    "id": "cc14ba54",
    "papermill": {
     "duration": 0.128924,
     "end_time": "2023-08-04T07:26:47.885889",
     "exception": false,
     "start_time": "2023-08-04T07:26:47.756965",
     "status": "completed"
    },
    "tags": []
   },
   "source": [
    "# Describe\n",
    "Describe function is used to show the statistical value of each column. which all include:\n",
    "\n",
    "* Count of the column\n",
    "* Mean value of the column\n",
    "* Standard Deviation of the column\n",
    "* Minimum value of the column\n",
    "* 25% percentile of the column\n",
    "* 50% percentile of the column\n",
    "* 75% percentile of the column\n",
    "* Maximum value of the column"
   ]
  },
  {
   "cell_type": "code",
   "execution_count": null,
   "id": "953b9b77",
   "metadata": {
    "colab": {
     "base_uri": "https://localhost:8080/",
     "height": 300
    },
    "executionInfo": {
     "elapsed": 2145,
     "status": "ok",
     "timestamp": 1713839420542,
     "user": {
      "displayName": "Harshadeep Nallamothu",
      "userId": "10115021912795450642"
     },
     "user_tz": 240
    },
    "id": "953b9b77",
    "outputId": "028fd9b6-6235-4ef6-a64f-b91c761a49d2",
    "papermill": {
     "duration": 4.05021,
     "end_time": "2023-08-04T07:26:52.070700",
     "exception": false,
     "start_time": "2023-08-04T07:26:48.020490",
     "status": "completed"
    },
    "tags": []
   },
   "outputs": [],
   "source": [
    "# summary\n",
    "df.describe()"
   ]
  },
  {
   "cell_type": "code",
   "execution_count": null,
   "id": "a5e4bf7e",
   "metadata": {
    "colab": {
     "base_uri": "https://localhost:8080/",
     "height": 1000
    },
    "executionInfo": {
     "elapsed": 5,
     "status": "ok",
     "timestamp": 1713839420542,
     "user": {
      "displayName": "Harshadeep Nallamothu",
      "userId": "10115021912795450642"
     },
     "user_tz": 240
    },
    "id": "a5e4bf7e",
    "outputId": "8164f5eb-9eaa-457d-a3aa-b7b98c8e834c",
    "papermill": {
     "duration": 0.178008,
     "end_time": "2023-08-04T07:26:52.391152",
     "exception": false,
     "start_time": "2023-08-04T07:26:52.213144",
     "status": "completed"
    },
    "tags": []
   },
   "outputs": [],
   "source": [
    "df.head(20)"
   ]
  },
  {
   "cell_type": "code",
   "execution_count": null,
   "id": "33c96d0b",
   "metadata": {
    "executionInfo": {
     "elapsed": 519,
     "status": "ok",
     "timestamp": 1713839421379,
     "user": {
      "displayName": "Harshadeep Nallamothu",
      "userId": "10115021912795450642"
     },
     "user_tz": 240
    },
    "id": "33c96d0b",
    "papermill": {
     "duration": 1.085912,
     "end_time": "2023-08-04T07:26:53.610971",
     "exception": false,
     "start_time": "2023-08-04T07:26:52.525059",
     "status": "completed"
    },
    "tags": []
   },
   "outputs": [],
   "source": [
    "df = df.drop('position_x', axis=1)\n"
   ]
  },
  {
   "cell_type": "code",
   "execution_count": null,
   "id": "8d432a3f",
   "metadata": {
    "colab": {
     "base_uri": "https://localhost:8080/",
     "height": 0
    },
    "executionInfo": {
     "elapsed": 7,
     "status": "ok",
     "timestamp": 1713839421379,
     "user": {
      "displayName": "Harshadeep Nallamothu",
      "userId": "10115021912795450642"
     },
     "user_tz": 240
    },
    "id": "8d432a3f",
    "outputId": "3e3bca9f-0423-4fc4-92e4-8035b3d87c56",
    "papermill": {
     "duration": 0.169906,
     "end_time": "2023-08-04T07:26:53.913073",
     "exception": false,
     "start_time": "2023-08-04T07:26:53.743167",
     "status": "completed"
    },
    "tags": []
   },
   "outputs": [],
   "source": [
    "df.head(10)"
   ]
  },
  {
   "cell_type": "code",
   "execution_count": null,
   "id": "d5afc23b",
   "metadata": {
    "colab": {
     "base_uri": "https://localhost:8080/",
     "height": 0
    },
    "executionInfo": {
     "elapsed": 6,
     "status": "ok",
     "timestamp": 1713839421380,
     "user": {
      "displayName": "Harshadeep Nallamothu",
      "userId": "10115021912795450642"
     },
     "user_tz": 240
    },
    "id": "d5afc23b",
    "outputId": "3d0c5ac0-40b6-42ee-c026-f43a9fa3979b",
    "papermill": {
     "duration": 0.170305,
     "end_time": "2023-08-04T07:26:54.217160",
     "exception": false,
     "start_time": "2023-08-04T07:26:54.046855",
     "status": "completed"
    },
    "tags": []
   },
   "outputs": [],
   "source": [
    "# changing of old column name to meaningful name\n",
    "\n",
    "col_name = {'number_x':'number','milliseconds':'timetaken_in_millisec','fastestLapSpeed':'max_speed',\n",
    " 'name_x':'grand_prix','number_y':'driver_num','code':'driver_code','nationality_x':'nationality','name_y':'company',\n",
    " 'raceId_x':'racerId','points_x':'points','position_y':'position'}\n",
    "\n",
    "df.rename(columns=col_name,inplace=True)\n",
    "df.head()"
   ]
  },
  {
   "cell_type": "markdown",
   "id": "9dfb0292",
   "metadata": {
    "id": "9dfb0292",
    "papermill": {
     "duration": 0.138144,
     "end_time": "2023-08-04T07:26:54.492017",
     "exception": false,
     "start_time": "2023-08-04T07:26:54.353873",
     "status": "completed"
    },
    "tags": []
   },
   "source": [
    "![overtake](https://c.tenor.com/IB4EgSxeYREAAAAd/f1-max-verstappen.gif)"
   ]
  },
  {
   "cell_type": "code",
   "execution_count": null,
   "id": "3d26afee",
   "metadata": {
    "executionInfo": {
     "elapsed": 954,
     "status": "ok",
     "timestamp": 1713839422329,
     "user": {
      "displayName": "Harshadeep Nallamothu",
      "userId": "10115021912795450642"
     },
     "user_tz": 240
    },
    "id": "3d26afee",
    "papermill": {
     "duration": 1.167464,
     "end_time": "2023-08-04T07:26:55.796514",
     "exception": false,
     "start_time": "2023-08-04T07:26:54.629050",
     "status": "completed"
    },
    "tags": []
   },
   "outputs": [],
   "source": [
    "# Adding two column (forename,surname) to create a single column called driver_name\n",
    "\n",
    "df['driver_name'] = df['forename']+' '+df['surname']"
   ]
  },
  {
   "cell_type": "code",
   "execution_count": null,
   "id": "21a17e21",
   "metadata": {
    "colab": {
     "base_uri": "https://localhost:8080/",
     "height": 0
    },
    "executionInfo": {
     "elapsed": 6,
     "status": "ok",
     "timestamp": 1713839422330,
     "user": {
      "displayName": "Harshadeep Nallamothu",
      "userId": "10115021912795450642"
     },
     "user_tz": 240
    },
    "id": "21a17e21",
    "outputId": "9e2b2750-49e4-436c-ae00-281010e2309b",
    "papermill": {
     "duration": 0.17229,
     "end_time": "2023-08-04T07:26:56.102968",
     "exception": false,
     "start_time": "2023-08-04T07:26:55.930678",
     "status": "completed"
    },
    "tags": []
   },
   "outputs": [],
   "source": [
    "df.head()"
   ]
  },
  {
   "cell_type": "code",
   "execution_count": null,
   "id": "3a87bfbd",
   "metadata": {
    "executionInfo": {
     "elapsed": 1439,
     "status": "ok",
     "timestamp": 1713839423765,
     "user": {
      "displayName": "Harshadeep Nallamothu",
      "userId": "10115021912795450642"
     },
     "user_tz": 240
    },
    "id": "3a87bfbd",
    "papermill": {
     "duration": 3.827602,
     "end_time": "2023-08-04T07:27:00.067192",
     "exception": false,
     "start_time": "2023-08-04T07:26:56.239590",
     "status": "completed"
    },
    "tags": []
   },
   "outputs": [],
   "source": [
    "df = df.drop(['forename','surname'], axis=1)"
   ]
  },
  {
   "cell_type": "code",
   "execution_count": null,
   "id": "d26d1088",
   "metadata": {
    "colab": {
     "base_uri": "https://localhost:8080/",
     "height": 0
    },
    "executionInfo": {
     "elapsed": 10,
     "status": "ok",
     "timestamp": 1713839423766,
     "user": {
      "displayName": "Harshadeep Nallamothu",
      "userId": "10115021912795450642"
     },
     "user_tz": 240
    },
    "id": "d26d1088",
    "outputId": "4274d622-e17a-4ed7-8ce2-4ea66982cc09",
    "papermill": {
     "duration": 0.172267,
     "end_time": "2023-08-04T07:27:00.382688",
     "exception": false,
     "start_time": "2023-08-04T07:27:00.210421",
     "status": "completed"
    },
    "tags": []
   },
   "outputs": [],
   "source": [
    "df.head()"
   ]
  },
  {
   "cell_type": "markdown",
   "id": "58532aff",
   "metadata": {
    "id": "58532aff",
    "papermill": {
     "duration": 0.137234,
     "end_time": "2023-08-04T07:27:00.654345",
     "exception": false,
     "start_time": "2023-08-04T07:27:00.517111",
     "status": "completed"
    },
    "tags": []
   },
   "source": [
    "# Converting dtype\n",
    "\n",
    "Changing of data type from object to date to calculate the driver's age."
   ]
  },
  {
   "cell_type": "code",
   "execution_count": null,
   "id": "ee750259",
   "metadata": {
    "colab": {
     "base_uri": "https://localhost:8080/",
     "height": 0
    },
    "executionInfo": {
     "elapsed": 8,
     "status": "ok",
     "timestamp": 1713839423766,
     "user": {
      "displayName": "Harshadeep Nallamothu",
      "userId": "10115021912795450642"
     },
     "user_tz": 240
    },
    "id": "ee750259",
    "outputId": "c8a6504a-86be-46ee-fb35-8cec956fb424",
    "papermill": {
     "duration": 0.172844,
     "end_time": "2023-08-04T07:27:00.965787",
     "exception": false,
     "start_time": "2023-08-04T07:27:00.792943",
     "status": "completed"
    },
    "tags": []
   },
   "outputs": [],
   "source": [
    "df.head()"
   ]
  },
  {
   "cell_type": "code",
   "execution_count": null,
   "id": "a747f853",
   "metadata": {
    "colab": {
     "base_uri": "https://localhost:8080/"
    },
    "executionInfo": {
     "elapsed": 477,
     "status": "ok",
     "timestamp": 1713839424237,
     "user": {
      "displayName": "Harshadeep Nallamothu",
      "userId": "10115021912795450642"
     },
     "user_tz": 240
    },
    "id": "a747f853",
    "outputId": "1345d540-eefd-4df6-d880-2dbbf2df5355",
    "papermill": {
     "duration": 0.679919,
     "end_time": "2023-08-04T07:27:01.783909",
     "exception": false,
     "start_time": "2023-08-04T07:27:01.103990",
     "status": "completed"
    },
    "tags": []
   },
   "outputs": [],
   "source": [
    "# converting to date format from string\n",
    "\n",
    "pd.to_datetime(df.dob)"
   ]
  },
  {
   "cell_type": "code",
   "execution_count": null,
   "id": "6576c6b9",
   "metadata": {
    "executionInfo": {
     "elapsed": 352,
     "status": "ok",
     "timestamp": 1713839424587,
     "user": {
      "displayName": "Harshadeep Nallamothu",
      "userId": "10115021912795450642"
     },
     "user_tz": 240
    },
    "id": "6576c6b9",
    "papermill": {
     "duration": 1.611831,
     "end_time": "2023-08-04T07:27:03.535805",
     "exception": false,
     "start_time": "2023-08-04T07:27:01.923974",
     "status": "completed"
    },
    "tags": []
   },
   "outputs": [],
   "source": [
    "df['dob'] = pd.to_datetime(df['dob'])"
   ]
  },
  {
   "cell_type": "code",
   "execution_count": null,
   "id": "0734615e",
   "metadata": {
    "executionInfo": {
     "elapsed": 3,
     "status": "ok",
     "timestamp": 1713839424588,
     "user": {
      "displayName": "Harshadeep Nallamothu",
      "userId": "10115021912795450642"
     },
     "user_tz": 240
    },
    "id": "0734615e",
    "papermill": {
     "duration": 0.143318,
     "end_time": "2023-08-04T07:27:03.820984",
     "exception": false,
     "start_time": "2023-08-04T07:27:03.677666",
     "status": "completed"
    },
    "tags": []
   },
   "outputs": [],
   "source": [
    "from datetime import datetime"
   ]
  },
  {
   "cell_type": "code",
   "execution_count": null,
   "id": "e264b449",
   "metadata": {
    "executionInfo": {
     "elapsed": 282,
     "status": "ok",
     "timestamp": 1713839424867,
     "user": {
      "displayName": "Harshadeep Nallamothu",
      "userId": "10115021912795450642"
     },
     "user_tz": 240
    },
    "id": "e264b449",
    "papermill": {
     "duration": 0.278608,
     "end_time": "2023-08-04T07:27:04.234951",
     "exception": false,
     "start_time": "2023-08-04T07:27:03.956343",
     "status": "completed"
    },
    "tags": []
   },
   "outputs": [],
   "source": [
    "# calculating driver's age and creating it as a new column\n",
    "\n",
    "dates = datetime.today()-df['dob']\n",
    "age = dates.dt.days/365"
   ]
  },
  {
   "cell_type": "code",
   "execution_count": null,
   "id": "57874c1d",
   "metadata": {
    "executionInfo": {
     "elapsed": 6,
     "status": "ok",
     "timestamp": 1713839424868,
     "user": {
      "displayName": "Harshadeep Nallamothu",
      "userId": "10115021912795450642"
     },
     "user_tz": 240
    },
    "id": "57874c1d",
    "papermill": {
     "duration": 0.166276,
     "end_time": "2023-08-04T07:27:04.538346",
     "exception": false,
     "start_time": "2023-08-04T07:27:04.372070",
     "status": "completed"
    },
    "tags": []
   },
   "outputs": [],
   "source": [
    "df['age'] = round(age)"
   ]
  },
  {
   "cell_type": "code",
   "execution_count": null,
   "id": "144e1908",
   "metadata": {
    "colab": {
     "base_uri": "https://localhost:8080/",
     "height": 0
    },
    "executionInfo": {
     "elapsed": 5,
     "status": "ok",
     "timestamp": 1713839424868,
     "user": {
      "displayName": "Harshadeep Nallamothu",
      "userId": "10115021912795450642"
     },
     "user_tz": 240
    },
    "id": "144e1908",
    "outputId": "43038cc1-c667-4036-ec42-462c909bc9ff",
    "papermill": {
     "duration": 0.174298,
     "end_time": "2023-08-04T07:27:04.854505",
     "exception": false,
     "start_time": "2023-08-04T07:27:04.680207",
     "status": "completed"
    },
    "tags": []
   },
   "outputs": [],
   "source": [
    "pd.set_option('display.max_columns', None)\n",
    "df.head()"
   ]
  },
  {
   "cell_type": "code",
   "execution_count": null,
   "id": "754fbd3f",
   "metadata": {
    "executionInfo": {
     "elapsed": 14504,
     "status": "ok",
     "timestamp": 1713839439368,
     "user": {
      "displayName": "Harshadeep Nallamothu",
      "userId": "10115021912795450642"
     },
     "user_tz": 240
    },
    "id": "754fbd3f",
    "papermill": {
     "duration": 25.817118,
     "end_time": "2023-08-04T07:27:30.812883",
     "exception": false,
     "start_time": "2023-08-04T07:27:04.995765",
     "status": "completed"
    },
    "tags": []
   },
   "outputs": [],
   "source": [
    "# changing datatype\n",
    "\n",
    "l = ['number','timetaken_in_millisec','fastestLap','rank','max_speed','driver_num']\n",
    "for i in l:\n",
    "    df[i] = pd.to_numeric(df[i],errors='coerce')"
   ]
  },
  {
   "cell_type": "code",
   "execution_count": null,
   "id": "a56100d6",
   "metadata": {
    "executionInfo": {
     "elapsed": 1626,
     "status": "ok",
     "timestamp": 1713839440983,
     "user": {
      "displayName": "Harshadeep Nallamothu",
      "userId": "10115021912795450642"
     },
     "user_tz": 240
    },
    "id": "a56100d6",
    "papermill": {
     "duration": 1.260173,
     "end_time": "2023-08-04T07:27:32.220316",
     "exception": false,
     "start_time": "2023-08-04T07:27:30.960143",
     "status": "completed"
    },
    "tags": []
   },
   "outputs": [],
   "source": [
    "df.drop('driver_num', axis=1, inplace=True)"
   ]
  },
  {
   "cell_type": "code",
   "execution_count": null,
   "id": "7d35d317",
   "metadata": {
    "executionInfo": {
     "elapsed": 6,
     "status": "ok",
     "timestamp": 1713839440984,
     "user": {
      "displayName": "Harshadeep Nallamothu",
      "userId": "10115021912795450642"
     },
     "user_tz": 240
    },
    "id": "7d35d317",
    "papermill": {
     "duration": 0.148759,
     "end_time": "2023-08-04T07:27:32.513400",
     "exception": false,
     "start_time": "2023-08-04T07:27:32.364641",
     "status": "completed"
    },
    "tags": []
   },
   "outputs": [],
   "source": [
    "# seperating categorical and numerical columns for understading\n",
    "\n",
    "cat = []\n",
    "num = []\n",
    "for i in df.columns:\n",
    "    if df[i].dtypes == 'O':\n",
    "        cat.append(i)\n",
    "    else:\n",
    "        num.append(i)"
   ]
  },
  {
   "cell_type": "code",
   "execution_count": null,
   "id": "9d0fac73",
   "metadata": {
    "colab": {
     "base_uri": "https://localhost:8080/",
     "height": 206
    },
    "executionInfo": {
     "elapsed": 777,
     "status": "ok",
     "timestamp": 1713839441757,
     "user": {
      "displayName": "Harshadeep Nallamothu",
      "userId": "10115021912795450642"
     },
     "user_tz": 240
    },
    "id": "9d0fac73",
    "outputId": "e634615b-72f8-4263-d8a8-95b711af5466",
    "papermill": {
     "duration": 0.691134,
     "end_time": "2023-08-04T07:27:33.348455",
     "exception": false,
     "start_time": "2023-08-04T07:27:32.657321",
     "status": "completed"
    },
    "tags": []
   },
   "outputs": [],
   "source": [
    "df[cat].head()"
   ]
  },
  {
   "cell_type": "code",
   "execution_count": null,
   "id": "02c979d8",
   "metadata": {
    "colab": {
     "base_uri": "https://localhost:8080/",
     "height": 0
    },
    "executionInfo": {
     "elapsed": 1158,
     "status": "ok",
     "timestamp": 1713839442912,
     "user": {
      "displayName": "Harshadeep Nallamothu",
      "userId": "10115021912795450642"
     },
     "user_tz": 240
    },
    "id": "02c979d8",
    "outputId": "d3dff738-ed79-49ec-95bd-26d2693f2a3c",
    "papermill": {
     "duration": 0.428136,
     "end_time": "2023-08-04T07:27:33.921706",
     "exception": false,
     "start_time": "2023-08-04T07:27:33.493570",
     "status": "completed"
    },
    "scrolled": true,
    "tags": []
   },
   "outputs": [],
   "source": [
    "df[num].head()"
   ]
  },
  {
   "cell_type": "code",
   "execution_count": null,
   "id": "5fc4da69",
   "metadata": {
    "colab": {
     "base_uri": "https://localhost:8080/"
    },
    "executionInfo": {
     "elapsed": 183,
     "status": "ok",
     "timestamp": 1713839443093,
     "user": {
      "displayName": "Harshadeep Nallamothu",
      "userId": "10115021912795450642"
     },
     "user_tz": 240
    },
    "id": "5fc4da69",
    "outputId": "e7fc6855-9f13-4cde-8739-f270b08fabc0",
    "papermill": {
     "duration": 0.163265,
     "end_time": "2023-08-04T07:27:34.244274",
     "exception": false,
     "start_time": "2023-08-04T07:27:34.081009",
     "status": "completed"
    },
    "tags": []
   },
   "outputs": [],
   "source": [
    "df.dtypes"
   ]
  },
  {
   "cell_type": "code",
   "execution_count": null,
   "id": "8a4d4d3b",
   "metadata": {
    "colab": {
     "base_uri": "https://localhost:8080/",
     "height": 0
    },
    "executionInfo": {
     "elapsed": 6,
     "status": "ok",
     "timestamp": 1713839443093,
     "user": {
      "displayName": "Harshadeep Nallamothu",
      "userId": "10115021912795450642"
     },
     "user_tz": 240
    },
    "id": "8a4d4d3b",
    "outputId": "bcd0a379-aa89-4e3a-eec2-31fee1fe23a4",
    "papermill": {
     "duration": 0.182271,
     "end_time": "2023-08-04T07:27:34.566663",
     "exception": false,
     "start_time": "2023-08-04T07:27:34.384392",
     "status": "completed"
    },
    "tags": []
   },
   "outputs": [],
   "source": [
    "df.head()"
   ]
  },
  {
   "cell_type": "code",
   "execution_count": null,
   "id": "6f284f3a",
   "metadata": {
    "colab": {
     "base_uri": "https://localhost:8080/"
    },
    "executionInfo": {
     "elapsed": 3424,
     "status": "ok",
     "timestamp": 1713839446512,
     "user": {
      "displayName": "Harshadeep Nallamothu",
      "userId": "10115021912795450642"
     },
     "user_tz": 240
    },
    "id": "6f284f3a",
    "outputId": "4f114538-4e42-4161-bffd-18cc391f2938",
    "papermill": {
     "duration": 5.14302,
     "end_time": "2023-08-04T07:27:39.859178",
     "exception": false,
     "start_time": "2023-08-04T07:27:34.716158",
     "status": "completed"
    },
    "tags": []
   },
   "outputs": [],
   "source": [
    "df.isnull().sum() / len(df) * 100"
   ]
  },
  {
   "cell_type": "code",
   "execution_count": null,
   "id": "b0955373",
   "metadata": {
    "colab": {
     "base_uri": "https://localhost:8080/"
    },
    "executionInfo": {
     "elapsed": 20,
     "status": "ok",
     "timestamp": 1713839446512,
     "user": {
      "displayName": "Harshadeep Nallamothu",
      "userId": "10115021912795450642"
     },
     "user_tz": 240
    },
    "id": "b0955373",
    "outputId": "7d79874a-61d9-40e1-a3e7-11ad1156fe2a",
    "papermill": {
     "duration": 0.156341,
     "end_time": "2023-08-04T07:27:40.160011",
     "exception": false,
     "start_time": "2023-08-04T07:27:40.003670",
     "status": "completed"
    },
    "tags": []
   },
   "outputs": [],
   "source": [
    "df['max_speed'].mean()"
   ]
  },
  {
   "cell_type": "code",
   "execution_count": null,
   "id": "d57afb43",
   "metadata": {
    "executionInfo": {
     "elapsed": 608,
     "status": "ok",
     "timestamp": 1713839447103,
     "user": {
      "displayName": "Harshadeep Nallamothu",
      "userId": "10115021912795450642"
     },
     "user_tz": 240
    },
    "id": "d57afb43",
    "papermill": {
     "duration": 0.322837,
     "end_time": "2023-08-04T07:27:40.625313",
     "exception": false,
     "start_time": "2023-08-04T07:27:40.302476",
     "status": "completed"
    },
    "tags": []
   },
   "outputs": [],
   "source": [
    "df[['rank','fastestLap']] = df[['rank','fastestLap']].fillna(0)\n",
    "df['timetaken_in_millisec'] = df['timetaken_in_millisec'].fillna(df['timetaken_in_millisec'].mean())\n",
    "df['max_speed']= df['max_speed'].fillna(df['max_speed'].mean())\n",
    "df['number'] = df['number'].fillna(0)"
   ]
  },
  {
   "cell_type": "code",
   "execution_count": null,
   "id": "277d97b7",
   "metadata": {
    "colab": {
     "base_uri": "https://localhost:8080/"
    },
    "executionInfo": {
     "elapsed": 3783,
     "status": "ok",
     "timestamp": 1713839450884,
     "user": {
      "displayName": "Harshadeep Nallamothu",
      "userId": "10115021912795450642"
     },
     "user_tz": 240
    },
    "id": "277d97b7",
    "outputId": "a6e41992-7ad8-42bc-95cc-ddffc2acfa28",
    "papermill": {
     "duration": 5.184879,
     "end_time": "2023-08-04T07:27:45.953626",
     "exception": false,
     "start_time": "2023-08-04T07:27:40.768747",
     "status": "completed"
    },
    "tags": []
   },
   "outputs": [],
   "source": [
    "df.isnull().sum() / len(df) * 100"
   ]
  },
  {
   "cell_type": "code",
   "execution_count": null,
   "id": "c65ec493",
   "metadata": {
    "colab": {
     "base_uri": "https://localhost:8080/",
     "height": 0
    },
    "executionInfo": {
     "elapsed": 21,
     "status": "ok",
     "timestamp": 1713839450885,
     "user": {
      "displayName": "Harshadeep Nallamothu",
      "userId": "10115021912795450642"
     },
     "user_tz": 240
    },
    "id": "c65ec493",
    "outputId": "42885c12-745f-4568-dc26-2d4faf048c70",
    "papermill": {
     "duration": 0.180258,
     "end_time": "2023-08-04T07:27:46.285718",
     "exception": false,
     "start_time": "2023-08-04T07:27:46.105460",
     "status": "completed"
    },
    "tags": []
   },
   "outputs": [],
   "source": [
    "df.head()"
   ]
  },
  {
   "cell_type": "code",
   "execution_count": null,
   "id": "8b218fe3",
   "metadata": {
    "id": "8b218fe3",
    "papermill": {
     "duration": 1.836141,
     "end_time": "2023-08-04T07:27:48.267657",
     "exception": false,
     "start_time": "2023-08-04T07:27:46.431516",
     "status": "completed"
    },
    "tags": []
   },
   "outputs": [],
   "source": [
    "df.describe().T"
   ]
  },
  {
   "cell_type": "markdown",
   "id": "6f6887d9",
   "metadata": {
    "id": "6f6887d9",
    "papermill": {
     "duration": 0.148087,
     "end_time": "2023-08-04T07:27:48.561208",
     "exception": false,
     "start_time": "2023-08-04T07:27:48.413121",
     "status": "completed"
    },
    "tags": []
   },
   "source": [
    "# Map\n",
    "\n",
    "The map is used to plot the track that are used all around the world using latitude and longitude."
   ]
  },
  {
   "cell_type": "code",
   "execution_count": null,
   "id": "d6a8008b",
   "metadata": {
    "id": "d6a8008b",
    "papermill": {
     "duration": 0.178056,
     "end_time": "2023-08-04T07:27:48.888101",
     "exception": false,
     "start_time": "2023-08-04T07:27:48.710045",
     "status": "completed"
    },
    "tags": []
   },
   "outputs": [],
   "source": [
    "circuit_df = pd.read_csv('C:\\\\Users\\\\tallu\\\\Desktop\\\\MLP\\\\F1_Data\\\\circuits.csv')\n",
    "circuit_df.head()"
   ]
  },
  {
   "cell_type": "markdown",
   "id": "990c1cdc",
   "metadata": {
    "id": "990c1cdc",
    "papermill": {
     "duration": 0.14917,
     "end_time": "2023-08-04T07:27:49.183086",
     "exception": false,
     "start_time": "2023-08-04T07:27:49.033916",
     "status": "completed"
    },
    "tags": []
   },
   "source": [
    "# displaying the f1 track on the map using folium"
   ]
  },
  {
   "cell_type": "code",
   "execution_count": null,
   "id": "d71ebff0-ec77-409c-9823-b2048d5bf538",
   "metadata": {
    "id": "d71ebff0-ec77-409c-9823-b2048d5bf538"
   },
   "outputs": [],
   "source": [
    "pip install folium\n"
   ]
  },
  {
   "cell_type": "code",
   "execution_count": null,
   "id": "3a0873ea",
   "metadata": {
    "id": "3a0873ea",
    "papermill": {
     "duration": 0.643161,
     "end_time": "2023-08-04T07:27:49.974381",
     "exception": false,
     "start_time": "2023-08-04T07:27:49.331220",
     "status": "completed"
    },
    "tags": []
   },
   "outputs": [],
   "source": [
    "# ploting the f1 track using lat and lng in worldmap\n",
    "\n",
    "import folium\n",
    "\n",
    "coordinates=[]\n",
    "for lat, lng in zip(circuit_df['lat'], circuit_df['lng']):\n",
    "    coordinates.append([lat, lng])\n",
    "\n",
    "maps = folium.Map(zoom_start=150)  # No custom tiles specified\n",
    "\n",
    "for coord, name in zip(coordinates, circuit_df.name):\n",
    "    marker = folium.Marker(\n",
    "        location=coord,\n",
    "        icon=folium.Icon(icon=\"car\", color='cadetblue', prefix='fa'),\n",
    "        popup=\"<strong>{0}</strong>\".format(name)  # Strong tag is used to bold the font (optional)\n",
    "    )\n",
    "    maps.add_child(marker)\n",
    "\n",
    "maps  # Display the map\n"
   ]
  },
  {
   "cell_type": "code",
   "execution_count": null,
   "id": "98a47576",
   "metadata": {
    "id": "98a47576",
    "papermill": {
     "duration": 0.187224,
     "end_time": "2023-08-04T07:27:50.320586",
     "exception": false,
     "start_time": "2023-08-04T07:27:50.133362",
     "status": "completed"
    },
    "tags": []
   },
   "outputs": [],
   "source": [
    "df['rank'].unique()"
   ]
  },
  {
   "cell_type": "markdown",
   "id": "ab2f5a90",
   "metadata": {
    "id": "ab2f5a90",
    "papermill": {
     "duration": 0.147385,
     "end_time": "2023-08-04T07:27:50.620077",
     "exception": false,
     "start_time": "2023-08-04T07:27:50.472692",
     "status": "completed"
    },
    "tags": []
   },
   "source": [
    "# Data Filtration\n",
    "\n",
    "Filtering data by the driver who finished the race successfully"
   ]
  },
  {
   "cell_type": "code",
   "execution_count": null,
   "id": "e4706d05",
   "metadata": {
    "id": "e4706d05",
    "papermill": {
     "duration": 1.093444,
     "end_time": "2023-08-04T07:27:51.870423",
     "exception": false,
     "start_time": "2023-08-04T07:27:50.776979",
     "status": "completed"
    },
    "tags": []
   },
   "outputs": [],
   "source": [
    "df_fin = df[df['status'] == 'Finished']\n",
    "df_fin.tail()"
   ]
  },
  {
   "cell_type": "code",
   "execution_count": null,
   "id": "481375ff",
   "metadata": {
    "id": "481375ff",
    "papermill": {
     "duration": 0.51695,
     "end_time": "2023-08-04T07:27:52.545756",
     "exception": false,
     "start_time": "2023-08-04T07:27:52.028806",
     "status": "completed"
    },
    "tags": []
   },
   "outputs": [],
   "source": [
    "mean = df.max_speed.mean()\n",
    "mean2 = df.fastestLap.mean()\n",
    "df = df_fin[df_fin['max_speed']>mean]\n",
    "df.head()"
   ]
  },
  {
   "cell_type": "code",
   "execution_count": null,
   "id": "4c9ff545",
   "metadata": {
    "id": "4c9ff545",
    "papermill": {
     "duration": 0.357334,
     "end_time": "2023-08-04T07:27:53.062403",
     "exception": false,
     "start_time": "2023-08-04T07:27:52.705069",
     "status": "completed"
    },
    "tags": []
   },
   "outputs": [],
   "source": [
    "df[df['fastestLap']>mean2]"
   ]
  },
  {
   "cell_type": "code",
   "execution_count": null,
   "id": "6e5206fc",
   "metadata": {
    "id": "6e5206fc",
    "papermill": {
     "duration": 0.369091,
     "end_time": "2023-08-04T07:27:53.590616",
     "exception": false,
     "start_time": "2023-08-04T07:27:53.221525",
     "status": "completed"
    },
    "tags": []
   },
   "outputs": [],
   "source": [
    "# filtering the data by mean of driver's age\n",
    "\n",
    "df = df[df['age']<df['age'].mean()]\n",
    "df.head()"
   ]
  },
  {
   "cell_type": "code",
   "execution_count": null,
   "id": "743c1901",
   "metadata": {
    "id": "743c1901",
    "papermill": {
     "duration": 0.44892,
     "end_time": "2023-08-04T07:27:54.199797",
     "exception": false,
     "start_time": "2023-08-04T07:27:53.750877",
     "status": "completed"
    },
    "tags": []
   },
   "outputs": [],
   "source": [
    "# droping unwanted columns\n",
    "\n",
    "df.drop('dob', axis=1, inplace=True)\n",
    "df.drop('statusId', axis=1, inplace=True)\n"
   ]
  },
  {
   "cell_type": "markdown",
   "id": "3161a67d",
   "metadata": {
    "execution": {
     "iopub.execute_input": "2022-03-01T14:29:20.236004Z",
     "iopub.status.busy": "2022-03-01T14:29:20.23555Z",
     "iopub.status.idle": "2022-03-01T14:29:20.243226Z",
     "shell.execute_reply": "2022-03-01T14:29:20.241879Z",
     "shell.execute_reply.started": "2022-03-01T14:29:20.235961Z"
    },
    "id": "3161a67d",
    "papermill": {
     "duration": 0.158774,
     "end_time": "2023-08-04T07:27:54.511303",
     "exception": false,
     "start_time": "2023-08-04T07:27:54.352529",
     "status": "completed"
    },
    "tags": []
   },
   "source": [
    "# Skewness\n",
    "\n",
    "Checking for skewness in the data, Skewness is used to check the normality of the data by ranging from -1 to 1.\n",
    "* -1 --> Left skewed\n",
    "* 0 --> Normal distribution\n",
    "* 1 --> Right skewed"
   ]
  },
  {
   "cell_type": "code",
   "execution_count": null,
   "id": "cf438da4-eb80-4097-9947-633e6ebb38bc",
   "metadata": {
    "tags": []
   },
   "outputs": [],
   "source": [
    "pip install pandas\n"
   ]
  },
  {
   "cell_type": "code",
   "execution_count": null,
   "id": "11977ef7",
   "metadata": {
    "id": "11977ef7",
    "papermill": {
     "duration": 1.242926,
     "end_time": "2023-08-04T07:27:55.911178",
     "exception": false,
     "start_time": "2023-08-04T07:27:54.668252",
     "status": "completed"
    },
    "tags": []
   },
   "outputs": [],
   "source": [
    "import numpy as np\n",
    "df.select_dtypes(include=[np.number]).skew()\n"
   ]
  },
  {
   "cell_type": "markdown",
   "id": "7d6c4b4a",
   "metadata": {
    "id": "7d6c4b4a",
    "papermill": {
     "duration": 0.161194,
     "end_time": "2023-08-04T07:27:56.229336",
     "exception": false,
     "start_time": "2023-08-04T07:27:56.068142",
     "status": "completed"
    },
    "tags": []
   },
   "source": [
    "# Outlier Treatment\n",
    "\n",
    "Seems some columns are skewed a lot, removal of the outliers will normalize a data bit"
   ]
  },
  {
   "cell_type": "code",
   "execution_count": null,
   "id": "3af44a9a",
   "metadata": {
    "id": "3af44a9a",
    "papermill": {
     "duration": 3.981386,
     "end_time": "2023-08-04T07:28:00.367946",
     "exception": false,
     "start_time": "2023-08-04T07:27:56.386560",
     "status": "completed"
    },
    "tags": []
   },
   "outputs": [],
   "source": [
    "# outlier removal\n",
    "# Calculate quantiles and IQR only for numeric data\n",
    "Q1 = df.select_dtypes(include=[np.number]).quantile(0.25)\n",
    "Q3 = df.select_dtypes(include=[np.number]).quantile(0.75)\n",
    "IQR = Q3 - Q1\n",
    "\n",
    "# Filtering using IQR only on numeric columns\n",
    "filter = (df[Q1.index] < (Q1 - 1.5 * IQR)) | (df[Q3.index] > (Q3 + 1.5 * IQR))\n",
    "\n",
    "# Apply filter to the DataFrame and drop rows with any True values\n",
    "df = df[~filter.any(axis=1)]\n",
    "\n",
    "df.head()\n"
   ]
  },
  {
   "cell_type": "code",
   "execution_count": null,
   "id": "05bf2b40",
   "metadata": {
    "id": "05bf2b40",
    "papermill": {
     "duration": 2.350401,
     "end_time": "2023-08-04T07:28:02.875558",
     "exception": false,
     "start_time": "2023-08-04T07:28:00.525157",
     "status": "completed"
    },
    "tags": []
   },
   "outputs": [],
   "source": [
    "import matplotlib.pyplot as plt\n",
    "import seaborn as sns\n",
    "import numpy as np\n",
    "\n",
    "# Select only numeric data types for correlation calculation\n",
    "numeric_df = df.select_dtypes(include=[np.number])\n",
    "\n",
    "# Calculate the correlation matrix and plot it\n",
    "plt.figure(figsize=(17,12))\n",
    "sns.heatmap(numeric_df.corr(), annot=True)\n",
    "plt.show()\n"
   ]
  },
  {
   "cell_type": "code",
   "execution_count": null,
   "id": "410764bc",
   "metadata": {
    "id": "410764bc",
    "papermill": {
     "duration": 0.172193,
     "end_time": "2023-08-04T07:28:03.214431",
     "exception": false,
     "start_time": "2023-08-04T07:28:03.042238",
     "status": "completed"
    },
    "tags": []
   },
   "outputs": [],
   "source": [
    "num.remove('dob')\n",
    "num.remove('statusId')"
   ]
  },
  {
   "cell_type": "code",
   "execution_count": null,
   "id": "b6a02eef",
   "metadata": {
    "id": "b6a02eef",
    "papermill": {
     "duration": 21.493568,
     "end_time": "2023-08-04T07:28:24.875106",
     "exception": false,
     "start_time": "2023-08-04T07:28:03.381538",
     "status": "completed"
    },
    "tags": []
   },
   "outputs": [],
   "source": [
    "# kde plot for checking the normalization\n",
    "\n",
    "plt.figure(figsize=(15,50))\n",
    "for i,j in zip(num,range(1,len(num)+1)):\n",
    "    plt.subplot(11,2,j)\n",
    "    sns.kdeplot(df[i],shade=True,color='darkblue')\n",
    "plt.show()"
   ]
  },
  {
   "cell_type": "code",
   "execution_count": null,
   "id": "b7a2ef16",
   "metadata": {
    "id": "b7a2ef16",
    "papermill": {
     "duration": 0.746787,
     "end_time": "2023-08-04T07:28:25.803743",
     "exception": false,
     "start_time": "2023-08-04T07:28:25.056956",
     "status": "completed"
    },
    "tags": []
   },
   "outputs": [],
   "source": [
    "# Calculate skewness only for numeric columns\n",
    "numeric_skew = df.select_dtypes(include=[np.number]).skew()\n",
    "print(numeric_skew)\n"
   ]
  },
  {
   "cell_type": "markdown",
   "id": "dd6b959b",
   "metadata": {
    "execution": {
     "iopub.execute_input": "2022-03-01T14:34:23.784817Z",
     "iopub.status.busy": "2022-03-01T14:34:23.784452Z",
     "iopub.status.idle": "2022-03-01T14:34:23.790751Z",
     "shell.execute_reply": "2022-03-01T14:34:23.789784Z",
     "shell.execute_reply.started": "2022-03-01T14:34:23.784782Z"
    },
    "id": "dd6b959b",
    "papermill": {
     "duration": 0.178358,
     "end_time": "2023-08-04T07:28:26.158075",
     "exception": false,
     "start_time": "2023-08-04T07:28:25.979717",
     "status": "completed"
    },
    "tags": []
   },
   "source": [
    "Still some columns are skewed even after outlier removal and skewness can be normalized during ML part."
   ]
  },
  {
   "cell_type": "markdown",
   "id": "be19c2f1",
   "metadata": {
    "id": "be19c2f1",
    "papermill": {
     "duration": 0.183105,
     "end_time": "2023-08-04T07:28:26.521898",
     "exception": false,
     "start_time": "2023-08-04T07:28:26.338793",
     "status": "completed"
    },
    "tags": []
   },
   "source": [
    "# Encoding\n",
    "\n",
    "I have choosen LabelEncoding instead of one hot encoding, because one hot will give you a various new columns based on the unique value. I will recommend LabelEncoding to use always, since it will replace in a single column for new value.\n",
    "\n",
    "Note:\n",
    "    \n",
    "    * To represent a unicode string as a string of bytes is known as encoding.\n",
    "    * To convert a string of bytes to a unicode string is known as decoding."
   ]
  },
  {
   "cell_type": "code",
   "execution_count": null,
   "id": "0e10c27a",
   "metadata": {
    "id": "0e10c27a",
    "papermill": {
     "duration": 0.192005,
     "end_time": "2023-08-04T07:28:26.896967",
     "exception": false,
     "start_time": "2023-08-04T07:28:26.704962",
     "status": "completed"
    },
    "tags": []
   },
   "outputs": [],
   "source": [
    "from sklearn.preprocessing import LabelEncoder\n",
    "le = LabelEncoder()"
   ]
  },
  {
   "cell_type": "code",
   "execution_count": null,
   "id": "f90ffbe5",
   "metadata": {
    "id": "f90ffbe5",
    "papermill": {
     "duration": 1.604541,
     "end_time": "2023-08-04T07:28:28.677017",
     "exception": false,
     "start_time": "2023-08-04T07:28:27.072476",
     "status": "completed"
    },
    "tags": []
   },
   "outputs": [],
   "source": [
    "# encoding categorical columns\n",
    "\n",
    "for i in cat:\n",
    "    df[i] = le.fit_transform(df[i])\n",
    "df.head()"
   ]
  },
  {
   "cell_type": "code",
   "execution_count": null,
   "id": "fc628d55",
   "metadata": {
    "id": "fc628d55",
    "papermill": {
     "duration": 0.250334,
     "end_time": "2023-08-04T07:28:29.105388",
     "exception": false,
     "start_time": "2023-08-04T07:28:28.855054",
     "status": "completed"
    },
    "tags": []
   },
   "outputs": [],
   "source": [
    "x = df.drop('driver_name', axis=1)\n",
    "y = df['driver_name']\n"
   ]
  },
  {
   "cell_type": "code",
   "execution_count": null,
   "id": "959ed584",
   "metadata": {
    "id": "959ed584",
    "papermill": {
     "duration": 0.297826,
     "end_time": "2023-08-04T07:28:29.582769",
     "exception": false,
     "start_time": "2023-08-04T07:28:29.284943",
     "status": "completed"
    },
    "tags": []
   },
   "outputs": [],
   "source": [
    "from sklearn.model_selection import train_test_split\n",
    "xtrain, xtest, ytrain, ytest = train_test_split(x,y,test_size=0.3,random_state=42)"
   ]
  },
  {
   "cell_type": "markdown",
   "id": "cda72197",
   "metadata": {
    "id": "cda72197",
    "papermill": {
     "duration": 0.179839,
     "end_time": "2023-08-04T07:28:29.943454",
     "exception": false,
     "start_time": "2023-08-04T07:28:29.763615",
     "status": "completed"
    },
    "tags": []
   },
   "source": [
    "# ML Algorithms"
   ]
  },
  {
   "cell_type": "code",
   "execution_count": null,
   "id": "d9605e76",
   "metadata": {
    "id": "d9605e76",
    "papermill": {
     "duration": 0.348473,
     "end_time": "2023-08-04T07:28:30.470702",
     "exception": false,
     "start_time": "2023-08-04T07:28:30.122229",
     "status": "completed"
    },
    "tags": []
   },
   "outputs": [],
   "source": [
    "# importing ML libraries\n",
    "\n",
    "from sklearn.linear_model import LogisticRegression\n",
    "from sklearn.tree import DecisionTreeClassifier\n",
    "from sklearn.ensemble import RandomForestClassifier\n",
    "from sklearn.neighbors import KNeighborsClassifier\n",
    "from sklearn.naive_bayes import GaussianNB\n",
    "from sklearn.linear_model import SGDClassifier\n",
    "from sklearn.metrics import accuracy_score\n",
    "from sklearn.metrics import confusion_matrix\n",
    "from sklearn.metrics import classification_report\n",
    "from sklearn import tree"
   ]
  },
  {
   "cell_type": "code",
   "execution_count": null,
   "id": "dbd5f0c8",
   "metadata": {
    "id": "dbd5f0c8",
    "papermill": {
     "duration": 1.584995,
     "end_time": "2023-08-04T07:28:32.242615",
     "exception": false,
     "start_time": "2023-08-04T07:28:30.657620",
     "status": "completed"
    },
    "tags": []
   },
   "outputs": [],
   "source": [
    "clf = DecisionTreeClassifier(max_depth=5,random_state=1234)\n",
    "clf.fit(xtrain, ytrain)"
   ]
  },
  {
   "cell_type": "code",
   "execution_count": null,
   "id": "b1474ab9",
   "metadata": {
    "id": "b1474ab9",
    "papermill": {
     "duration": 0.19129,
     "end_time": "2023-08-04T07:28:32.614706",
     "exception": false,
     "start_time": "2023-08-04T07:28:32.423416",
     "status": "completed"
    },
    "tags": []
   },
   "outputs": [],
   "source": [
    "tree.export_text(clf)"
   ]
  },
  {
   "cell_type": "code",
   "execution_count": null,
   "id": "16e1c788",
   "metadata": {
    "id": "16e1c788",
    "papermill": {
     "duration": 0.185021,
     "end_time": "2023-08-04T07:28:32.982185",
     "exception": false,
     "start_time": "2023-08-04T07:28:32.797164",
     "status": "completed"
    },
    "tags": []
   },
   "outputs": [],
   "source": [
    "fn = list(df.columns)\n",
    "fn.remove('driver_name')"
   ]
  },
  {
   "cell_type": "markdown",
   "id": "d7475c3a",
   "metadata": {
    "id": "d7475c3a",
    "papermill": {
     "duration": 0.179172,
     "end_time": "2023-08-04T07:28:33.344080",
     "exception": false,
     "start_time": "2023-08-04T07:28:33.164908",
     "status": "completed"
    },
    "tags": []
   },
   "source": [
    "# DT workflow"
   ]
  },
  {
   "cell_type": "code",
   "execution_count": null,
   "id": "b6d8b4e0",
   "metadata": {
    "id": "b6d8b4e0",
    "papermill": {
     "duration": 2.377651,
     "end_time": "2023-08-04T07:28:35.904751",
     "exception": false,
     "start_time": "2023-08-04T07:28:33.527100",
     "status": "completed"
    },
    "tags": []
   },
   "outputs": [],
   "source": [
    "# plotting decision tree workflow\n",
    "\n",
    "fig = plt.figure(figsize=(40,40))\n",
    "_ = tree.plot_tree(clf,\n",
    "               feature_names=fn,\n",
    "               filled=True)"
   ]
  },
  {
   "cell_type": "markdown",
   "id": "030fca53",
   "metadata": {
    "id": "030fca53",
    "papermill": {
     "duration": 0.201304,
     "end_time": "2023-08-04T07:28:36.338530",
     "exception": false,
     "start_time": "2023-08-04T07:28:36.137226",
     "status": "completed"
    },
    "tags": []
   },
   "source": [
    "# Modeling the data"
   ]
  },
  {
   "cell_type": "code",
   "execution_count": null,
   "id": "df5f183b-6a59-40fd-a267-4b2363293ca2",
   "metadata": {
    "tags": []
   },
   "outputs": [],
   "source": [
    "pip install --upgrade numpy scikit-learn\n"
   ]
  },
  {
   "cell_type": "code",
   "execution_count": null,
   "id": "21485def",
   "metadata": {
    "id": "21485def",
    "papermill": {
     "duration": 0.214143,
     "end_time": "2023-08-04T07:28:36.755103",
     "exception": false,
     "start_time": "2023-08-04T07:28:36.540960",
     "status": "completed"
    },
    "tags": []
   },
   "outputs": [],
   "source": [
    "# classification ML algorithms\n",
    "\n",
    "lr = LogisticRegression(solver='sag')\n",
    "dt = DecisionTreeClassifier()\n",
    "rn = RandomForestClassifier()\n",
    "knn = KNeighborsClassifier()\n",
    "gb = GaussianNB()\n",
    "sgd = SGDClassifier()"
   ]
  },
  {
   "cell_type": "code",
   "execution_count": null,
   "id": "92d96537",
   "metadata": {
    "id": "92d96537",
    "papermill": {
     "duration": 713.192337,
     "end_time": "2023-08-04T07:40:30.139057",
     "exception": false,
     "start_time": "2023-08-04T07:28:36.946720",
     "status": "completed"
    },
    "tags": []
   },
   "outputs": [],
   "source": [
    "import numpy as np\n",
    "from sklearn.metrics import accuracy_score\n",
    "\n",
    "# Ensure data is in the correct format\n",
    "xtest = np.ascontiguousarray(xtest)\n",
    "ytest = np.ascontiguousarray(ytest)\n",
    "\n",
    "d = {}  # Ensure dictionary 'd' is defined for storing scores\n",
    "for i in li:\n",
    "    i.fit(xtrain, ytrain)\n",
    "    ypred = i.predict(xtest)\n",
    "    print(f\"{i} :\", accuracy_score(ytest, ypred) * 100)\n",
    "    d.update({str(i): accuracy_score(ytest, ypred) * 100})\n"
   ]
  },
  {
   "cell_type": "code",
   "execution_count": null,
   "id": "5f7fbd13",
   "metadata": {
    "id": "5f7fbd13",
    "papermill": {
     "duration": 0.468317,
     "end_time": "2023-08-04T07:40:30.818088",
     "exception": false,
     "start_time": "2023-08-04T07:40:30.349771",
     "status": "completed"
    },
    "tags": []
   },
   "outputs": [],
   "source": [
    "plt.figure(figsize=(15, 7.5))\n",
    "plt.title(\"Algorithm vs Accuracy\", fontweight='bold')\n",
    "plt.xlabel(\"Algorithm\")\n",
    "plt.ylabel(\"Accuracy\")\n",
    "plt.plot(d.keys(),d.values(),marker='o',color='plum',linewidth=4,markersize=13,\n",
    "         markerfacecolor='gold',markeredgecolor='slategray')\n",
    "for x,y in zip(d.keys(),d.values()):\n",
    "    label = \"{:.2f}\".format(y)\n",
    "    plt.annotate(label,(x,y),textcoords=\"offset points\",xytext=(-3.75,5),ha='right')\n",
    "plt.show()"
   ]
  },
  {
   "cell_type": "markdown",
   "id": "229bbca1",
   "metadata": {
    "id": "229bbca1",
    "papermill": {
     "duration": 0.18896,
     "end_time": "2023-08-04T07:40:31.194745",
     "exception": false,
     "start_time": "2023-08-04T07:40:31.005785",
     "status": "completed"
    },
    "tags": []
   },
   "source": [
    "As you can see, the accuracy of basic algorithm (logistic) and SGD is not good as expected. Since the data are skewed/denormalized, so it can be fixed by scaling the data."
   ]
  },
  {
   "cell_type": "markdown",
   "id": "191f7ad8",
   "metadata": {
    "id": "191f7ad8",
    "papermill": {
     "duration": 0.189349,
     "end_time": "2023-08-04T07:40:31.576231",
     "exception": false,
     "start_time": "2023-08-04T07:40:31.386882",
     "status": "completed"
    },
    "tags": []
   },
   "source": [
    "# [MinMaxScaler](https://scikit-learn.org/stable/modules/generated/sklearn.preprocessing.MinMaxScaler.html)\n",
    "\n",
    "Each value in a feature, MinMaxScaler subtracts the minimum value in the feature and then divides by the range. The range is the difference between the original maximum and original minimum. MinMaxScaler preserves the shape of the original distribution."
   ]
  },
  {
   "cell_type": "code",
   "execution_count": null,
   "id": "dfbffcb3",
   "metadata": {
    "id": "dfbffcb3",
    "papermill": {
     "duration": 0.290738,
     "end_time": "2023-08-04T07:40:32.056125",
     "exception": false,
     "start_time": "2023-08-04T07:40:31.765387",
     "status": "completed"
    },
    "tags": []
   },
   "outputs": [],
   "source": [
    "from sklearn.preprocessing import MinMaxScaler\n",
    "# fit scaler on training data\n",
    "norm = MinMaxScaler().fit(xtrain)\n",
    "# transform training data\n",
    "X_train_norm = norm.transform(xtrain)\n",
    "# transform testing data\n",
    "X_test_norm = norm.transform(xtest)"
   ]
  },
  {
   "cell_type": "code",
   "execution_count": null,
   "id": "43c63bdd",
   "metadata": {
    "id": "43c63bdd",
    "papermill": {
     "duration": 191.802839,
     "end_time": "2023-08-04T07:43:44.067313",
     "exception": false,
     "start_time": "2023-08-04T07:40:32.264474",
     "status": "completed"
    },
    "tags": []
   },
   "outputs": [],
   "source": [
    "li = [lr,sgd,rn,knn,gb,dt]\n",
    "di = {}\n",
    "for i in li:\n",
    "    i.fit(X_train_norm,ytrain)\n",
    "    ypred = i.predict(X_test_norm)\n",
    "    print(i,\":\",accuracy_score(ypred,ytest)*100)\n",
    "    di.update({str(i):i.score(X_test_norm,ytest)*100})"
   ]
  },
  {
   "cell_type": "code",
   "execution_count": null,
   "id": "4b406a5a",
   "metadata": {
    "id": "4b406a5a",
    "papermill": {
     "duration": 0.398675,
     "end_time": "2023-08-04T07:43:44.656092",
     "exception": false,
     "start_time": "2023-08-04T07:43:44.257417",
     "status": "completed"
    },
    "tags": []
   },
   "outputs": [],
   "source": [
    "plt.figure(figsize=(15, 7.5))\n",
    "plt.title(\"Algorithm vs Accuracy\", fontweight='bold')\n",
    "plt.xlabel(\"Algorithm\")\n",
    "plt.ylabel(\"Accuracy\")\n",
    "plt.plot(di.keys(),di.values(),marker='o',color='skyblue',linewidth=4,markersize=13,\n",
    "         markerfacecolor='gold',markeredgecolor='black')\n",
    "for x,y in zip(di.keys(),di.values()):\n",
    "    label = \"{:.2f}\".format(y)\n",
    "    plt.annotate(label,(x,y),textcoords=\"offset points\",xytext=(-3.75,5),ha='right')\n",
    "plt.show()"
   ]
  },
  {
   "cell_type": "markdown",
   "id": "feeae521",
   "metadata": {
    "id": "feeae521",
    "papermill": {
     "duration": 0.192875,
     "end_time": "2023-08-04T07:43:45.042517",
     "exception": false,
     "start_time": "2023-08-04T07:43:44.849642",
     "status": "completed"
    },
    "tags": []
   },
   "source": [
    "As you can see the accuracy are getting high for Logistic Regression and SGDClassifier, both the algorithms are performing well from bottom low to 99% accuracy by scaling. Hence this prove the importance of normalizing the data."
   ]
  },
  {
   "cell_type": "markdown",
   "id": "55fb092f",
   "metadata": {
    "id": "55fb092f",
    "papermill": {
     "duration": 0.192708,
     "end_time": "2023-08-04T07:43:45.427556",
     "exception": false,
     "start_time": "2023-08-04T07:43:45.234848",
     "status": "completed"
    },
    "tags": []
   },
   "source": [
    "# [StandardScaler](https://scikit-learn.org/stable/modules/generated/sklearn.preprocessing.StandardScaler.html)\n",
    "\n",
    "StandardScaler removes the mean and scales each feature/variable to unit variance. This operation is performed feature-wise in an independent way. StandardScaler can be influenced by outliers (if they exist in the dataset) since it involves the estimation of the empirical mean and standard deviation of each feature."
   ]
  },
  {
   "cell_type": "code",
   "execution_count": null,
   "id": "d42e6679",
   "metadata": {
    "id": "d42e6679",
    "papermill": {
     "duration": 0.380312,
     "end_time": "2023-08-04T07:43:45.997715",
     "exception": false,
     "start_time": "2023-08-04T07:43:45.617403",
     "status": "completed"
    },
    "tags": []
   },
   "outputs": [],
   "source": [
    "from sklearn.preprocessing import StandardScaler\n",
    "# fit scaler on training data\n",
    "std = StandardScaler().fit(xtrain)\n",
    "# transform train data\n",
    "x_train_std = std.transform(xtrain)\n",
    "# transform test data\n",
    "x_test_std = std.transform(xtest)"
   ]
  },
  {
   "cell_type": "code",
   "execution_count": null,
   "id": "cd071885",
   "metadata": {
    "id": "cd071885",
    "papermill": {
     "duration": 211.092827,
     "end_time": "2023-08-04T07:47:17.286063",
     "exception": false,
     "start_time": "2023-08-04T07:43:46.193236",
     "status": "completed"
    },
    "tags": []
   },
   "outputs": [],
   "source": [
    "li = [lr,sgd,rn,knn,gb,dt]\n",
    "dic = {}\n",
    "for i in li:\n",
    "    i.fit(x_train_std,ytrain)\n",
    "    ypred = i.predict(x_test_std)\n",
    "    print(i,\":\",accuracy_score(ypred,ytest)*100)\n",
    "    dic.update({str(i):i.score(x_test_std,ytest)*100})"
   ]
  },
  {
   "cell_type": "code",
   "execution_count": null,
   "id": "3f5d7eda",
   "metadata": {
    "id": "3f5d7eda",
    "papermill": {
     "duration": 0.417012,
     "end_time": "2023-08-04T07:47:17.902526",
     "exception": false,
     "start_time": "2023-08-04T07:47:17.485514",
     "status": "completed"
    },
    "tags": []
   },
   "outputs": [],
   "source": [
    "plt.figure(figsize=(15, 7.5))\n",
    "plt.title(\"Algorithm vs Accuracy\", fontweight='bold')\n",
    "plt.xlabel(\"Algorithm\")\n",
    "plt.ylabel(\"Accuracy\")\n",
    "plt.plot(dic.keys(),dic.values(),marker='o',color='mediumpurple',linewidth=4,markersize=13,\n",
    "         markerfacecolor='gold',markeredgecolor='black')\n",
    "for x,y in zip(dic.keys(),dic.values()):\n",
    "    label = \"{:.2f}\".format(y)\n",
    "    plt.annotate(label,(x,y),textcoords=\"offset points\",xytext=(-3.75,5),ha='right')\n",
    "plt.show()"
   ]
  },
  {
   "cell_type": "markdown",
   "id": "a9631efb",
   "metadata": {
    "id": "a9631efb",
    "papermill": {
     "duration": 0.201408,
     "end_time": "2023-08-04T07:47:18.300986",
     "exception": false,
     "start_time": "2023-08-04T07:47:18.099578",
     "status": "completed"
    },
    "tags": []
   },
   "source": [
    "# [RobustScaler](https://scikit-learn.org/stable/modules/generated/sklearn.preprocessing.RobustScaler.html)\n",
    "\n",
    "Scale features using statistics that are robust to outliers. This Scaler removes the median and scales the data according to the quantile range (defaults to IQR: Interquartile Range). The IQR is the range between the 1st quartile (25th quantile) and the 3rd quartile (75th quantile)"
   ]
  },
  {
   "cell_type": "code",
   "execution_count": null,
   "id": "f7608557",
   "metadata": {
    "id": "f7608557",
    "papermill": {
     "duration": 0.488156,
     "end_time": "2023-08-04T07:47:18.987256",
     "exception": false,
     "start_time": "2023-08-04T07:47:18.499100",
     "status": "completed"
    },
    "tags": []
   },
   "outputs": [],
   "source": [
    "from sklearn.preprocessing import RobustScaler\n",
    "# fit scaler on train data\n",
    "scaler = RobustScaler().fit(xtrain)\n",
    "# transform train data\n",
    "xtrain_scaled = scaler.transform(xtrain)\n",
    "# transform test data\n",
    "xtest_scaled = scaler.transform(xtest)"
   ]
  },
  {
   "cell_type": "code",
   "execution_count": null,
   "id": "49afef28",
   "metadata": {
    "id": "49afef28",
    "papermill": {
     "duration": 194.243726,
     "end_time": "2023-08-04T07:50:33.432143",
     "exception": false,
     "start_time": "2023-08-04T07:47:19.188417",
     "status": "completed"
    },
    "tags": []
   },
   "outputs": [],
   "source": [
    "li = [lr,sgd,rn,knn,gb,dt]\n",
    "dics = {}\n",
    "for i in li:\n",
    "    i.fit(xtrain_scaled,ytrain)\n",
    "    ypred = i.predict(xtest_scaled)\n",
    "    print(i,\":\",accuracy_score(ypred,ytest)*100)\n",
    "    dics.update({str(i):i.score(xtest_scaled,ytest)*100})"
   ]
  },
  {
   "cell_type": "code",
   "execution_count": null,
   "id": "bac55d17",
   "metadata": {
    "id": "bac55d17",
    "papermill": {
     "duration": 0.415822,
     "end_time": "2023-08-04T07:50:34.044772",
     "exception": false,
     "start_time": "2023-08-04T07:50:33.628950",
     "status": "completed"
    },
    "tags": []
   },
   "outputs": [],
   "source": [
    "plt.figure(figsize=(15, 7.5))\n",
    "plt.title(\"Algorithm vs Accuracy\", fontweight='bold')\n",
    "plt.xlabel(\"Algorithm\")\n",
    "plt.ylabel(\"Accuracy\")\n",
    "plt.plot(dics.keys(),dics.values(),marker='o',color='darkseagreen',linewidth=4,markersize=13,\n",
    "         markerfacecolor='gold',markeredgecolor='black')\n",
    "for x,y in zip(dics.keys(),dics.values()):\n",
    "    label = \"{:.2f}\".format(y)\n",
    "    plt.annotate(label,(x,y),textcoords=\"offset points\",xytext=(-3.75,5),ha='right')\n",
    "plt.show()"
   ]
  },
  {
   "cell_type": "markdown",
   "id": "7794d3d2",
   "metadata": {
    "id": "7794d3d2",
    "papermill": {
     "duration": 0.195912,
     "end_time": "2023-08-04T07:50:34.437872",
     "exception": false,
     "start_time": "2023-08-04T07:50:34.241960",
     "status": "completed"
    },
    "tags": []
   },
   "source": [
    "After several stages of scaling process, got a good accuracy score of 100% in all algorithms except SGDClassifier with least of 99% for StandardScaler. Even the least (SGDClassifier) is considered as a very good accuracy.\n",
    "\n",
    "We made it team, we made it! 🎉\n",
    "\n",
    "![podium](https://c.tenor.com/agI-d6PVLeIAAAAC/sebastian-vettel.gif)"
   ]
  },
  {
   "cell_type": "markdown",
   "id": "10122be1",
   "metadata": {
    "id": "10122be1",
    "papermill": {
     "duration": 0.195192,
     "end_time": "2023-08-04T07:50:34.828899",
     "exception": false,
     "start_time": "2023-08-04T07:50:34.633707",
     "status": "completed"
    },
    "tags": []
   },
   "source": [
    "# Thank you!\n",
    "# Parvash"
   ]
  },
  {
   "cell_type": "markdown",
   "id": "7c671a5f",
   "metadata": {
    "id": "7c671a5f",
    "papermill": {
     "duration": 0.197192,
     "end_time": "2023-08-04T07:50:35.222622",
     "exception": false,
     "start_time": "2023-08-04T07:50:35.025430",
     "status": "completed"
    },
    "tags": []
   },
   "source": [
    "\n"
   ]
  },
  {
   "cell_type": "code",
   "execution_count": null,
   "id": "528ca754-89f5-4207-95ca-adaa77bddb45",
   "metadata": {
    "id": "528ca754-89f5-4207-95ca-adaa77bddb45"
   },
   "outputs": [],
   "source": []
  },
  {
   "cell_type": "code",
   "execution_count": null,
   "id": "52b9cb12-ae20-48a1-9de2-a8d1dea98cf8",
   "metadata": {
    "id": "52b9cb12-ae20-48a1-9de2-a8d1dea98cf8"
   },
   "outputs": [],
   "source": []
  }
 ],
 "metadata": {
  "colab": {
   "provenance": []
  },
  "kernelspec": {
   "display_name": "Python 3 (ipykernel)",
   "language": "python",
   "name": "python3"
  },
  "language_info": {
   "codemirror_mode": {
    "name": "ipython",
    "version": 3
   },
   "file_extension": ".py",
   "mimetype": "text/x-python",
   "name": "python",
   "nbconvert_exporter": "python",
   "pygments_lexer": "ipython3",
   "version": "3.11.5"
  },
  "papermill": {
   "default_parameters": {},
   "duration": 1463.464436,
   "end_time": "2023-08-04T07:50:38.133771",
   "environment_variables": {},
   "exception": null,
   "input_path": "__notebook__.ipynb",
   "output_path": "__notebook__.ipynb",
   "parameters": {},
   "start_time": "2023-08-04T07:26:14.669335",
   "version": "2.3.3"
  }
 },
 "nbformat": 4,
 "nbformat_minor": 5
}
